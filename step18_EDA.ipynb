{
 "cells": [
  {
   "cell_type": "markdown",
   "metadata": {},
   "source": [
    "### 쇼핑몰의 고객 정보를 기반으로 기계학습을 위한 EDA(전처리)"
   ]
  },
  {
   "cell_type": "code",
   "execution_count": 1,
   "metadata": {},
   "outputs": [],
   "source": [
    "import numpy as np\n",
    "import pandas as pd\n",
    "\n",
    "import matplotlib.pyplot as plt\n",
    "import seaborn as sns\n",
    "\n",
    "import warnings\n",
    "warnings.filterwarnings('ignore')"
   ]
  },
  {
   "cell_type": "code",
   "execution_count": 2,
   "metadata": {},
   "outputs": [],
   "source": [
    "plt.rc('font', family='malgun gothic')\n",
    "plt.rc('axes', unicode_minus=False)\n",
    "\n",
    "%matplotlib inline"
   ]
  },
  {
   "cell_type": "markdown",
   "metadata": {},
   "source": [
    "**데이터 로딩**"
   ]
  },
  {
   "cell_type": "markdown",
   "metadata": {},
   "source": [
    "**mem_data.csv 고객정보데이터**\n",
    "\n",
    "- 'MEM_ID' : 회원 코드\n",
    "- 'M_STORE_ID' : 가맹점 코드\n",
    "- 'GENDER' : 남(M) 여(F)\n",
    "- 'BIRTH_DT' : 생년월일\n",
    "- 'BIRTH_SL' : 양력(S), 음력(L)\n",
    "- 'ZIP_CD' : 우편번호\n",
    "- 'RGST_DT' : 등록일\n",
    "- 'VISIT_CNT' : 방문횟수\n",
    "- 'SALES_AMT' : 구매 합계\n",
    "- 'LAST_VST_DT' : 최근 방문 일자\n",
    "- 'USABLE_PNT' : 가용 포인트\n",
    "- 'USED_PNT' : 사용포인트 합계\n",
    "- 'ACC_PNT' : '누적 포인트 합계'\n",
    "- 'USABLE_INIT' : 초기 포인트\n",
    "- 'SMS' : SMS 수신 동의(Y/N)\n",
    "\n",
    "<hr>\n",
    "\n",
    "**store_info.csv**\n",
    "\n",
    "- STORE_CD : 판매점코드\n",
    "- STORE_REGION : 판매점지역\n",
    "\n",
    "\n",
    "<hr>\n",
    "\n",
    "**mem_transaction.csv**\n",
    "\n",
    "- STORE_ID : 판매매장 코드\n",
    "- SELL_DT : 판매 일자\n",
    "- MEMP_STY : 주문시 생성(O), 추후 적립(M), 웹입력(W)\n",
    "- MEM_ID : 회원 코드 \n",
    "- SELL_AMT : 판매 금액\n",
    "- MEMP_TP : A:적립, U:사용, R:조회\n"
   ]
  },
  {
   "cell_type": "code",
   "execution_count": null,
   "metadata": {},
   "outputs": [],
   "source": []
  },
  {
   "cell_type": "code",
   "execution_count": 3,
   "metadata": {},
   "outputs": [],
   "source": [
    "mem_data = pd.read_csv(\"input/mem_data.csv\")\n",
    "mem_tr = pd.read_csv(\"input/mem_transaction.csv\")\n",
    "store_info = pd.read_csv(\"input/store_info.csv\")\n",
    "# mem_data.info()\n"
   ]
  },
  {
   "cell_type": "code",
   "execution_count": 4,
   "metadata": {},
   "outputs": [
    {
     "data": {
      "text/html": [
       "<div>\n",
       "<style scoped>\n",
       "    .dataframe tbody tr th:only-of-type {\n",
       "        vertical-align: middle;\n",
       "    }\n",
       "\n",
       "    .dataframe tbody tr th {\n",
       "        vertical-align: top;\n",
       "    }\n",
       "\n",
       "    .dataframe thead th {\n",
       "        text-align: right;\n",
       "    }\n",
       "</style>\n",
       "<table border=\"1\" class=\"dataframe\">\n",
       "  <thead>\n",
       "    <tr style=\"text-align: right;\">\n",
       "      <th></th>\n",
       "      <th>STORE_ID</th>\n",
       "      <th>SELL_DT</th>\n",
       "      <th>MEMP_STY</th>\n",
       "      <th>MEM_ID</th>\n",
       "      <th>MEMP_DT</th>\n",
       "      <th>SELL_AMT</th>\n",
       "      <th>MEMP_TP</th>\n",
       "    </tr>\n",
       "  </thead>\n",
       "  <tbody>\n",
       "    <tr>\n",
       "      <th>0</th>\n",
       "      <td>125</td>\n",
       "      <td>20060227</td>\n",
       "      <td>O</td>\n",
       "      <td>1225434</td>\n",
       "      <td>2006-02-27 13:57:44.750000000</td>\n",
       "      <td>15500</td>\n",
       "      <td>A</td>\n",
       "    </tr>\n",
       "    <tr>\n",
       "      <th>1</th>\n",
       "      <td>125</td>\n",
       "      <td>20060303</td>\n",
       "      <td>O</td>\n",
       "      <td>1181938</td>\n",
       "      <td>2006-03-03 15:43:56.987000000</td>\n",
       "      <td>22600</td>\n",
       "      <td>A</td>\n",
       "    </tr>\n",
       "    <tr>\n",
       "      <th>2</th>\n",
       "      <td>125</td>\n",
       "      <td>20060322</td>\n",
       "      <td>O</td>\n",
       "      <td>6093</td>\n",
       "      <td>2006-03-22 18:08:45.563000000</td>\n",
       "      <td>11000</td>\n",
       "      <td>A</td>\n",
       "    </tr>\n",
       "    <tr>\n",
       "      <th>3</th>\n",
       "      <td>125</td>\n",
       "      <td>20060403</td>\n",
       "      <td>O</td>\n",
       "      <td>1398202</td>\n",
       "      <td>2006-04-03 13:36:27.040000000</td>\n",
       "      <td>14400</td>\n",
       "      <td>A</td>\n",
       "    </tr>\n",
       "    <tr>\n",
       "      <th>4</th>\n",
       "      <td>125</td>\n",
       "      <td>20060418</td>\n",
       "      <td>O</td>\n",
       "      <td>1225434</td>\n",
       "      <td>2006-04-18 16:04:39.583000000</td>\n",
       "      <td>6600</td>\n",
       "      <td>A</td>\n",
       "    </tr>\n",
       "  </tbody>\n",
       "</table>\n",
       "</div>"
      ],
      "text/plain": [
       "   STORE_ID   SELL_DT MEMP_STY   MEM_ID                        MEMP_DT  \\\n",
       "0       125  20060227        O  1225434  2006-02-27 13:57:44.750000000   \n",
       "1       125  20060303        O  1181938  2006-03-03 15:43:56.987000000   \n",
       "2       125  20060322        O     6093  2006-03-22 18:08:45.563000000   \n",
       "3       125  20060403        O  1398202  2006-04-03 13:36:27.040000000   \n",
       "4       125  20060418        O  1225434  2006-04-18 16:04:39.583000000   \n",
       "\n",
       "   SELL_AMT MEMP_TP  \n",
       "0     15500       A  \n",
       "1     22600       A  \n",
       "2     11000       A  \n",
       "3     14400       A  \n",
       "4      6600       A  "
      ]
     },
     "execution_count": 4,
     "metadata": {},
     "output_type": "execute_result"
    }
   ],
   "source": [
    "mem_tr.head()"
   ]
  },
  {
   "cell_type": "code",
   "execution_count": 5,
   "metadata": {},
   "outputs": [
    {
     "data": {
      "text/html": [
       "<div>\n",
       "<style scoped>\n",
       "    .dataframe tbody tr th:only-of-type {\n",
       "        vertical-align: middle;\n",
       "    }\n",
       "\n",
       "    .dataframe tbody tr th {\n",
       "        vertical-align: top;\n",
       "    }\n",
       "\n",
       "    .dataframe thead th {\n",
       "        text-align: right;\n",
       "    }\n",
       "</style>\n",
       "<table border=\"1\" class=\"dataframe\">\n",
       "  <thead>\n",
       "    <tr style=\"text-align: right;\">\n",
       "      <th></th>\n",
       "      <th>STORE_ID</th>\n",
       "      <th>STORE_REGION</th>\n",
       "    </tr>\n",
       "  </thead>\n",
       "  <tbody>\n",
       "    <tr>\n",
       "      <th>0</th>\n",
       "      <td>128</td>\n",
       "      <td>2</td>\n",
       "    </tr>\n",
       "    <tr>\n",
       "      <th>1</th>\n",
       "      <td>129</td>\n",
       "      <td>2</td>\n",
       "    </tr>\n",
       "    <tr>\n",
       "      <th>2</th>\n",
       "      <td>130</td>\n",
       "      <td>11</td>\n",
       "    </tr>\n",
       "    <tr>\n",
       "      <th>3</th>\n",
       "      <td>133</td>\n",
       "      <td>16</td>\n",
       "    </tr>\n",
       "    <tr>\n",
       "      <th>4</th>\n",
       "      <td>136</td>\n",
       "      <td>13</td>\n",
       "    </tr>\n",
       "  </tbody>\n",
       "</table>\n",
       "</div>"
      ],
      "text/plain": [
       "   STORE_ID  STORE_REGION\n",
       "0       128             2\n",
       "1       129             2\n",
       "2       130            11\n",
       "3       133            16\n",
       "4       136            13"
      ]
     },
     "execution_count": 5,
     "metadata": {},
     "output_type": "execute_result"
    }
   ],
   "source": [
    "store_info.head()"
   ]
  },
  {
   "cell_type": "code",
   "execution_count": 6,
   "metadata": {},
   "outputs": [
    {
     "data": {
      "text/html": [
       "<div>\n",
       "<style scoped>\n",
       "    .dataframe tbody tr th:only-of-type {\n",
       "        vertical-align: middle;\n",
       "    }\n",
       "\n",
       "    .dataframe tbody tr th {\n",
       "        vertical-align: top;\n",
       "    }\n",
       "\n",
       "    .dataframe thead th {\n",
       "        text-align: right;\n",
       "    }\n",
       "</style>\n",
       "<table border=\"1\" class=\"dataframe\">\n",
       "  <thead>\n",
       "    <tr style=\"text-align: right;\">\n",
       "      <th></th>\n",
       "      <th>MEM_ID</th>\n",
       "      <th>M_STORE_ID</th>\n",
       "      <th>GENDER</th>\n",
       "      <th>BIRTH_DT</th>\n",
       "      <th>BIRTH_SL</th>\n",
       "      <th>ZIP_CD</th>\n",
       "      <th>RGST_DT</th>\n",
       "      <th>VISIT_CNT</th>\n",
       "      <th>SALES_AMT</th>\n",
       "      <th>LAST_VST_DT</th>\n",
       "      <th>USABLE_PNT</th>\n",
       "      <th>USED_PNT</th>\n",
       "      <th>ACC_PNT</th>\n",
       "      <th>USABLE_INIT</th>\n",
       "      <th>SMS</th>\n",
       "    </tr>\n",
       "  </thead>\n",
       "  <tbody>\n",
       "    <tr>\n",
       "      <th>0</th>\n",
       "      <td>1134945</td>\n",
       "      <td>1084</td>\n",
       "      <td>M</td>\n",
       "      <td>NaN</td>\n",
       "      <td>S</td>\n",
       "      <td>-</td>\n",
       "      <td>2006-02-04 11:51:08.233000000</td>\n",
       "      <td>8.0</td>\n",
       "      <td>337000.0</td>\n",
       "      <td>2007-01-19 21:46:12.827000000</td>\n",
       "      <td>6740.0</td>\n",
       "      <td>0.0</td>\n",
       "      <td>6740.0</td>\n",
       "      <td>3202.0</td>\n",
       "      <td>Y</td>\n",
       "    </tr>\n",
       "    <tr>\n",
       "      <th>1</th>\n",
       "      <td>38458</td>\n",
       "      <td>539</td>\n",
       "      <td>F</td>\n",
       "      <td>1973-07-11</td>\n",
       "      <td>S</td>\n",
       "      <td>420-721</td>\n",
       "      <td>2006-02-04 11:51:08.233000000</td>\n",
       "      <td>22.0</td>\n",
       "      <td>1438500.0</td>\n",
       "      <td>2007-10-18 19:57:45.503000000</td>\n",
       "      <td>1732.0</td>\n",
       "      <td>12000.0</td>\n",
       "      <td>13732.0</td>\n",
       "      <td>17762.0</td>\n",
       "      <td>Y</td>\n",
       "    </tr>\n",
       "    <tr>\n",
       "      <th>2</th>\n",
       "      <td>7009</td>\n",
       "      <td>1113</td>\n",
       "      <td>F</td>\n",
       "      <td>1973-04-06</td>\n",
       "      <td>S</td>\n",
       "      <td>-</td>\n",
       "      <td>2006-02-04 11:51:08.233000000</td>\n",
       "      <td>8.0</td>\n",
       "      <td>309300.0</td>\n",
       "      <td>2007-05-30 15:21:10.863000000</td>\n",
       "      <td>6372.0</td>\n",
       "      <td>0.0</td>\n",
       "      <td>6372.0</td>\n",
       "      <td>1856.0</td>\n",
       "      <td>Y</td>\n",
       "    </tr>\n",
       "    <tr>\n",
       "      <th>3</th>\n",
       "      <td>1374842</td>\n",
       "      <td>1300</td>\n",
       "      <td>M</td>\n",
       "      <td>NaN</td>\n",
       "      <td>S</td>\n",
       "      <td>-</td>\n",
       "      <td>2006-02-04 11:51:08.233000000</td>\n",
       "      <td>3.0</td>\n",
       "      <td>110300.0</td>\n",
       "      <td>2007-03-25 12:49:30.170000000</td>\n",
       "      <td>2206.0</td>\n",
       "      <td>0.0</td>\n",
       "      <td>2206.0</td>\n",
       "      <td>1522.0</td>\n",
       "      <td>Y</td>\n",
       "    </tr>\n",
       "    <tr>\n",
       "      <th>4</th>\n",
       "      <td>1383660</td>\n",
       "      <td>1024</td>\n",
       "      <td>M</td>\n",
       "      <td>NaN</td>\n",
       "      <td>S</td>\n",
       "      <td>-</td>\n",
       "      <td>2006-02-05 16:56:58</td>\n",
       "      <td>2.0</td>\n",
       "      <td>33500.0</td>\n",
       "      <td>2006-09-09 14:55:21.687000000</td>\n",
       "      <td>670.0</td>\n",
       "      <td>0.0</td>\n",
       "      <td>670.0</td>\n",
       "      <td>110.0</td>\n",
       "      <td>Y</td>\n",
       "    </tr>\n",
       "  </tbody>\n",
       "</table>\n",
       "</div>"
      ],
      "text/plain": [
       "    MEM_ID  M_STORE_ID GENDER    BIRTH_DT BIRTH_SL   ZIP_CD  \\\n",
       "0  1134945        1084      M         NaN        S        -   \n",
       "1    38458         539      F  1973-07-11        S  420-721   \n",
       "2     7009        1113      F  1973-04-06        S        -   \n",
       "3  1374842        1300      M         NaN        S        -   \n",
       "4  1383660        1024      M         NaN        S        -   \n",
       "\n",
       "                         RGST_DT  VISIT_CNT  SALES_AMT  \\\n",
       "0  2006-02-04 11:51:08.233000000        8.0   337000.0   \n",
       "1  2006-02-04 11:51:08.233000000       22.0  1438500.0   \n",
       "2  2006-02-04 11:51:08.233000000        8.0   309300.0   \n",
       "3  2006-02-04 11:51:08.233000000        3.0   110300.0   \n",
       "4            2006-02-05 16:56:58        2.0    33500.0   \n",
       "\n",
       "                     LAST_VST_DT  USABLE_PNT  USED_PNT  ACC_PNT  USABLE_INIT  \\\n",
       "0  2007-01-19 21:46:12.827000000      6740.0       0.0   6740.0       3202.0   \n",
       "1  2007-10-18 19:57:45.503000000      1732.0   12000.0  13732.0      17762.0   \n",
       "2  2007-05-30 15:21:10.863000000      6372.0       0.0   6372.0       1856.0   \n",
       "3  2007-03-25 12:49:30.170000000      2206.0       0.0   2206.0       1522.0   \n",
       "4  2006-09-09 14:55:21.687000000       670.0       0.0    670.0        110.0   \n",
       "\n",
       "  SMS  \n",
       "0   Y  \n",
       "1   Y  \n",
       "2   Y  \n",
       "3   Y  \n",
       "4   Y  "
      ]
     },
     "execution_count": 6,
     "metadata": {},
     "output_type": "execute_result"
    }
   ],
   "source": [
    "mem_data.head()"
   ]
  },
  {
   "cell_type": "code",
   "execution_count": 7,
   "metadata": {},
   "outputs": [
    {
     "data": {
      "text/plain": [
       "Index(['MEM_ID', 'M_STORE_ID', 'GENDER', 'BIRTH_DT', 'BIRTH_SL', 'ZIP_CD',\n",
       "       'RGST_DT', 'VISIT_CNT', 'SALES_AMT', 'LAST_VST_DT', 'USABLE_PNT',\n",
       "       'USED_PNT', 'ACC_PNT', 'USABLE_INIT', 'SMS'],\n",
       "      dtype='object')"
      ]
     },
     "execution_count": 7,
     "metadata": {},
     "output_type": "execute_result"
    }
   ],
   "source": [
    "mem_data.columns"
   ]
  },
  {
   "cell_type": "code",
   "execution_count": 8,
   "metadata": {},
   "outputs": [
    {
     "name": "stdout",
     "output_type": "stream",
     "text": [
      "<class 'pandas.core.frame.DataFrame'>\n",
      "RangeIndex: 7534 entries, 0 to 7533\n",
      "Data columns (total 15 columns):\n",
      " #   Column       Non-Null Count  Dtype  \n",
      "---  ------       --------------  -----  \n",
      " 0   MEM_ID       7534 non-null   int64  \n",
      " 1   M_STORE_ID   7534 non-null   int64  \n",
      " 2   GENDER       7534 non-null   object \n",
      " 3   BIRTH_DT     4193 non-null   object \n",
      " 4   BIRTH_SL     7534 non-null   object \n",
      " 5   ZIP_CD       7534 non-null   object \n",
      " 6   RGST_DT      7534 non-null   object \n",
      " 7   VISIT_CNT    7534 non-null   float64\n",
      " 8   SALES_AMT    7534 non-null   float64\n",
      " 9   LAST_VST_DT  7534 non-null   object \n",
      " 10  USABLE_PNT   7534 non-null   float64\n",
      " 11  USED_PNT     7534 non-null   float64\n",
      " 12  ACC_PNT      7534 non-null   float64\n",
      " 13  USABLE_INIT  7534 non-null   float64\n",
      " 14  SMS          7534 non-null   object \n",
      "dtypes: float64(6), int64(2), object(7)\n",
      "memory usage: 883.0+ KB\n"
     ]
    }
   ],
   "source": [
    "mem_data.info()"
   ]
  },
  {
   "cell_type": "code",
   "execution_count": 9,
   "metadata": {},
   "outputs": [
    {
     "name": "stdout",
     "output_type": "stream",
     "text": [
      "<class 'pandas.core.frame.DataFrame'>\n",
      "RangeIndex: 60049 entries, 0 to 60048\n",
      "Data columns (total 7 columns):\n",
      " #   Column    Non-Null Count  Dtype \n",
      "---  ------    --------------  ----- \n",
      " 0   STORE_ID  60049 non-null  int64 \n",
      " 1   SELL_DT   60049 non-null  int64 \n",
      " 2   MEMP_STY  60049 non-null  object\n",
      " 3   MEM_ID    60049 non-null  int64 \n",
      " 4   MEMP_DT   60049 non-null  object\n",
      " 5   SELL_AMT  60049 non-null  int64 \n",
      " 6   MEMP_TP   60049 non-null  object\n",
      "dtypes: int64(4), object(3)\n",
      "memory usage: 3.2+ MB\n"
     ]
    }
   ],
   "source": [
    "mem_tr.info()"
   ]
  },
  {
   "cell_type": "code",
   "execution_count": 10,
   "metadata": {},
   "outputs": [
    {
     "name": "stdout",
     "output_type": "stream",
     "text": [
      "<class 'pandas.core.frame.DataFrame'>\n",
      "RangeIndex: 329 entries, 0 to 328\n",
      "Data columns (total 2 columns):\n",
      " #   Column        Non-Null Count  Dtype\n",
      "---  ------        --------------  -----\n",
      " 0   STORE_ID      329 non-null    int64\n",
      " 1   STORE_REGION  329 non-null    int64\n",
      "dtypes: int64(2)\n",
      "memory usage: 5.3 KB\n"
     ]
    }
   ],
   "source": [
    "store_info.info()"
   ]
  },
  {
   "cell_type": "code",
   "execution_count": 11,
   "metadata": {},
   "outputs": [
    {
     "data": {
      "text/plain": [
       "-          6585\n",
       "158-826      14\n",
       "480-070      11\n",
       "467-866      11\n",
       "482-852       8\n",
       "           ... \n",
       "631-763       1\n",
       "420-843       1\n",
       "421-160       1\n",
       "405-300       1\n",
       "482-844       1\n",
       "Name: ZIP_CD, Length: 624, dtype: int64"
      ]
     },
     "execution_count": 11,
     "metadata": {},
     "output_type": "execute_result"
    }
   ],
   "source": [
    "# 각 컬럼별 데이터 개수 카운트\n",
    "# 데이터에 - 표기가 많은, 전처리 해결책 : 강제적으로 결측치로 대체 \n",
    "mem_data.ZIP_CD.value_counts()"
   ]
  },
  {
   "cell_type": "code",
   "execution_count": 12,
   "metadata": {},
   "outputs": [
    {
     "data": {
      "text/plain": [
       "0             -\n",
       "1       420-721\n",
       "2             -\n",
       "3             -\n",
       "4             -\n",
       "         ...   \n",
       "7529          -\n",
       "7530          -\n",
       "7531          -\n",
       "7532          -\n",
       "7533    142-872\n",
       "Name: ZIP_CD, Length: 7534, dtype: object"
      ]
     },
     "execution_count": 12,
     "metadata": {},
     "output_type": "execute_result"
    }
   ],
   "source": [
    "mem_data.ZIP_CD"
   ]
  },
  {
   "cell_type": "code",
   "execution_count": 13,
   "metadata": {},
   "outputs": [
    {
     "data": {
      "text/plain": [
       "0        True\n",
       "1       False\n",
       "2        True\n",
       "3        True\n",
       "4        True\n",
       "        ...  \n",
       "7529     True\n",
       "7530     True\n",
       "7531     True\n",
       "7532     True\n",
       "7533    False\n",
       "Name: ZIP_CD, Length: 7534, dtype: bool"
      ]
     },
     "execution_count": 13,
     "metadata": {},
     "output_type": "execute_result"
    }
   ],
   "source": [
    "mem_data.ZIP_CD == '-'"
   ]
  },
  {
   "cell_type": "code",
   "execution_count": 14,
   "metadata": {},
   "outputs": [
    {
     "data": {
      "text/html": [
       "<div>\n",
       "<style scoped>\n",
       "    .dataframe tbody tr th:only-of-type {\n",
       "        vertical-align: middle;\n",
       "    }\n",
       "\n",
       "    .dataframe tbody tr th {\n",
       "        vertical-align: top;\n",
       "    }\n",
       "\n",
       "    .dataframe thead th {\n",
       "        text-align: right;\n",
       "    }\n",
       "</style>\n",
       "<table border=\"1\" class=\"dataframe\">\n",
       "  <thead>\n",
       "    <tr style=\"text-align: right;\">\n",
       "      <th></th>\n",
       "      <th>MEM_ID</th>\n",
       "      <th>M_STORE_ID</th>\n",
       "      <th>GENDER</th>\n",
       "      <th>BIRTH_DT</th>\n",
       "      <th>BIRTH_SL</th>\n",
       "      <th>ZIP_CD</th>\n",
       "      <th>RGST_DT</th>\n",
       "      <th>VISIT_CNT</th>\n",
       "      <th>SALES_AMT</th>\n",
       "      <th>LAST_VST_DT</th>\n",
       "      <th>USABLE_PNT</th>\n",
       "      <th>USED_PNT</th>\n",
       "      <th>ACC_PNT</th>\n",
       "      <th>USABLE_INIT</th>\n",
       "      <th>SMS</th>\n",
       "    </tr>\n",
       "  </thead>\n",
       "  <tbody>\n",
       "    <tr>\n",
       "      <th>0</th>\n",
       "      <td>1134945</td>\n",
       "      <td>1084</td>\n",
       "      <td>M</td>\n",
       "      <td>NaN</td>\n",
       "      <td>S</td>\n",
       "      <td>-</td>\n",
       "      <td>2006-02-04 11:51:08.233000000</td>\n",
       "      <td>8.0</td>\n",
       "      <td>337000.0</td>\n",
       "      <td>2007-01-19 21:46:12.827000000</td>\n",
       "      <td>6740.0</td>\n",
       "      <td>0.0</td>\n",
       "      <td>6740.0</td>\n",
       "      <td>3202.0</td>\n",
       "      <td>Y</td>\n",
       "    </tr>\n",
       "    <tr>\n",
       "      <th>2</th>\n",
       "      <td>7009</td>\n",
       "      <td>1113</td>\n",
       "      <td>F</td>\n",
       "      <td>1973-04-06</td>\n",
       "      <td>S</td>\n",
       "      <td>-</td>\n",
       "      <td>2006-02-04 11:51:08.233000000</td>\n",
       "      <td>8.0</td>\n",
       "      <td>309300.0</td>\n",
       "      <td>2007-05-30 15:21:10.863000000</td>\n",
       "      <td>6372.0</td>\n",
       "      <td>0.0</td>\n",
       "      <td>6372.0</td>\n",
       "      <td>1856.0</td>\n",
       "      <td>Y</td>\n",
       "    </tr>\n",
       "    <tr>\n",
       "      <th>3</th>\n",
       "      <td>1374842</td>\n",
       "      <td>1300</td>\n",
       "      <td>M</td>\n",
       "      <td>NaN</td>\n",
       "      <td>S</td>\n",
       "      <td>-</td>\n",
       "      <td>2006-02-04 11:51:08.233000000</td>\n",
       "      <td>3.0</td>\n",
       "      <td>110300.0</td>\n",
       "      <td>2007-03-25 12:49:30.170000000</td>\n",
       "      <td>2206.0</td>\n",
       "      <td>0.0</td>\n",
       "      <td>2206.0</td>\n",
       "      <td>1522.0</td>\n",
       "      <td>Y</td>\n",
       "    </tr>\n",
       "    <tr>\n",
       "      <th>4</th>\n",
       "      <td>1383660</td>\n",
       "      <td>1024</td>\n",
       "      <td>M</td>\n",
       "      <td>NaN</td>\n",
       "      <td>S</td>\n",
       "      <td>-</td>\n",
       "      <td>2006-02-05 16:56:58</td>\n",
       "      <td>2.0</td>\n",
       "      <td>33500.0</td>\n",
       "      <td>2006-09-09 14:55:21.687000000</td>\n",
       "      <td>670.0</td>\n",
       "      <td>0.0</td>\n",
       "      <td>670.0</td>\n",
       "      <td>110.0</td>\n",
       "      <td>Y</td>\n",
       "    </tr>\n",
       "    <tr>\n",
       "      <th>5</th>\n",
       "      <td>911717</td>\n",
       "      <td>10792</td>\n",
       "      <td>M</td>\n",
       "      <td>NaN</td>\n",
       "      <td>S</td>\n",
       "      <td>-</td>\n",
       "      <td>2006-02-04 11:51:08.233000000</td>\n",
       "      <td>18.0</td>\n",
       "      <td>227400.0</td>\n",
       "      <td>2007-10-21 17:16:03.257000000</td>\n",
       "      <td>4548.0</td>\n",
       "      <td>0.0</td>\n",
       "      <td>4548.0</td>\n",
       "      <td>842.0</td>\n",
       "      <td>Y</td>\n",
       "    </tr>\n",
       "    <tr>\n",
       "      <th>...</th>\n",
       "      <td>...</td>\n",
       "      <td>...</td>\n",
       "      <td>...</td>\n",
       "      <td>...</td>\n",
       "      <td>...</td>\n",
       "      <td>...</td>\n",
       "      <td>...</td>\n",
       "      <td>...</td>\n",
       "      <td>...</td>\n",
       "      <td>...</td>\n",
       "      <td>...</td>\n",
       "      <td>...</td>\n",
       "      <td>...</td>\n",
       "      <td>...</td>\n",
       "      <td>...</td>\n",
       "    </tr>\n",
       "    <tr>\n",
       "      <th>7528</th>\n",
       "      <td>268317</td>\n",
       "      <td>997</td>\n",
       "      <td>F</td>\n",
       "      <td>1980-02-03</td>\n",
       "      <td>S</td>\n",
       "      <td>-</td>\n",
       "      <td>2006-02-04 11:51:08.233000000</td>\n",
       "      <td>8.0</td>\n",
       "      <td>176200.0</td>\n",
       "      <td>2007-08-09 20:33:59.167000000</td>\n",
       "      <td>1264.0</td>\n",
       "      <td>3000.0</td>\n",
       "      <td>4264.0</td>\n",
       "      <td>1978.0</td>\n",
       "      <td>Y</td>\n",
       "    </tr>\n",
       "    <tr>\n",
       "      <th>7529</th>\n",
       "      <td>343892</td>\n",
       "      <td>130</td>\n",
       "      <td>F</td>\n",
       "      <td>1983-04-28</td>\n",
       "      <td>S</td>\n",
       "      <td>-</td>\n",
       "      <td>2006-02-04 11:51:08.233000000</td>\n",
       "      <td>22.0</td>\n",
       "      <td>383300.0</td>\n",
       "      <td>2007-10-28 12:35:20.587000000</td>\n",
       "      <td>7866.0</td>\n",
       "      <td>0.0</td>\n",
       "      <td>7866.0</td>\n",
       "      <td>2884.0</td>\n",
       "      <td>Y</td>\n",
       "    </tr>\n",
       "    <tr>\n",
       "      <th>7530</th>\n",
       "      <td>312177</td>\n",
       "      <td>130</td>\n",
       "      <td>F</td>\n",
       "      <td>1981-08-24</td>\n",
       "      <td>S</td>\n",
       "      <td>-</td>\n",
       "      <td>2006-02-04 11:51:08.233000000</td>\n",
       "      <td>18.0</td>\n",
       "      <td>385800.0</td>\n",
       "      <td>2007-11-07 19:22:06.137000000</td>\n",
       "      <td>870.0</td>\n",
       "      <td>7000.0</td>\n",
       "      <td>7870.0</td>\n",
       "      <td>4292.0</td>\n",
       "      <td>Y</td>\n",
       "    </tr>\n",
       "    <tr>\n",
       "      <th>7531</th>\n",
       "      <td>454881</td>\n",
       "      <td>1181</td>\n",
       "      <td>M</td>\n",
       "      <td>NaN</td>\n",
       "      <td>S</td>\n",
       "      <td>-</td>\n",
       "      <td>2006-02-04 11:51:08.233000000</td>\n",
       "      <td>3.0</td>\n",
       "      <td>85800.0</td>\n",
       "      <td>2007-04-14 21:13:18.977000000</td>\n",
       "      <td>1716.0</td>\n",
       "      <td>0.0</td>\n",
       "      <td>1716.0</td>\n",
       "      <td>0.0</td>\n",
       "      <td>Y</td>\n",
       "    </tr>\n",
       "    <tr>\n",
       "      <th>7532</th>\n",
       "      <td>973807</td>\n",
       "      <td>812</td>\n",
       "      <td>M</td>\n",
       "      <td>NaN</td>\n",
       "      <td>S</td>\n",
       "      <td>-</td>\n",
       "      <td>2006-02-04 11:51:08.233000000</td>\n",
       "      <td>4.0</td>\n",
       "      <td>208200.0</td>\n",
       "      <td>2007-09-12 12:58:43.683000000</td>\n",
       "      <td>4164.0</td>\n",
       "      <td>0.0</td>\n",
       "      <td>4164.0</td>\n",
       "      <td>1110.0</td>\n",
       "      <td>Y</td>\n",
       "    </tr>\n",
       "  </tbody>\n",
       "</table>\n",
       "<p>6585 rows × 15 columns</p>\n",
       "</div>"
      ],
      "text/plain": [
       "       MEM_ID  M_STORE_ID GENDER    BIRTH_DT BIRTH_SL ZIP_CD  \\\n",
       "0     1134945        1084      M         NaN        S      -   \n",
       "2        7009        1113      F  1973-04-06        S      -   \n",
       "3     1374842        1300      M         NaN        S      -   \n",
       "4     1383660        1024      M         NaN        S      -   \n",
       "5      911717       10792      M         NaN        S      -   \n",
       "...       ...         ...    ...         ...      ...    ...   \n",
       "7528   268317         997      F  1980-02-03        S      -   \n",
       "7529   343892         130      F  1983-04-28        S      -   \n",
       "7530   312177         130      F  1981-08-24        S      -   \n",
       "7531   454881        1181      M         NaN        S      -   \n",
       "7532   973807         812      M         NaN        S      -   \n",
       "\n",
       "                            RGST_DT  VISIT_CNT  SALES_AMT  \\\n",
       "0     2006-02-04 11:51:08.233000000        8.0   337000.0   \n",
       "2     2006-02-04 11:51:08.233000000        8.0   309300.0   \n",
       "3     2006-02-04 11:51:08.233000000        3.0   110300.0   \n",
       "4               2006-02-05 16:56:58        2.0    33500.0   \n",
       "5     2006-02-04 11:51:08.233000000       18.0   227400.0   \n",
       "...                             ...        ...        ...   \n",
       "7528  2006-02-04 11:51:08.233000000        8.0   176200.0   \n",
       "7529  2006-02-04 11:51:08.233000000       22.0   383300.0   \n",
       "7530  2006-02-04 11:51:08.233000000       18.0   385800.0   \n",
       "7531  2006-02-04 11:51:08.233000000        3.0    85800.0   \n",
       "7532  2006-02-04 11:51:08.233000000        4.0   208200.0   \n",
       "\n",
       "                        LAST_VST_DT  USABLE_PNT  USED_PNT  ACC_PNT  \\\n",
       "0     2007-01-19 21:46:12.827000000      6740.0       0.0   6740.0   \n",
       "2     2007-05-30 15:21:10.863000000      6372.0       0.0   6372.0   \n",
       "3     2007-03-25 12:49:30.170000000      2206.0       0.0   2206.0   \n",
       "4     2006-09-09 14:55:21.687000000       670.0       0.0    670.0   \n",
       "5     2007-10-21 17:16:03.257000000      4548.0       0.0   4548.0   \n",
       "...                             ...         ...       ...      ...   \n",
       "7528  2007-08-09 20:33:59.167000000      1264.0    3000.0   4264.0   \n",
       "7529  2007-10-28 12:35:20.587000000      7866.0       0.0   7866.0   \n",
       "7530  2007-11-07 19:22:06.137000000       870.0    7000.0   7870.0   \n",
       "7531  2007-04-14 21:13:18.977000000      1716.0       0.0   1716.0   \n",
       "7532  2007-09-12 12:58:43.683000000      4164.0       0.0   4164.0   \n",
       "\n",
       "      USABLE_INIT SMS  \n",
       "0          3202.0   Y  \n",
       "2          1856.0   Y  \n",
       "3          1522.0   Y  \n",
       "4           110.0   Y  \n",
       "5           842.0   Y  \n",
       "...           ...  ..  \n",
       "7528       1978.0   Y  \n",
       "7529       2884.0   Y  \n",
       "7530       4292.0   Y  \n",
       "7531          0.0   Y  \n",
       "7532       1110.0   Y  \n",
       "\n",
       "[6585 rows x 15 columns]"
      ]
     },
     "execution_count": 14,
     "metadata": {},
     "output_type": "execute_result"
    }
   ],
   "source": [
    "mem_data.loc[mem_data.ZIP_CD == '-']"
   ]
  },
  {
   "cell_type": "code",
   "execution_count": 15,
   "metadata": {},
   "outputs": [],
   "source": [
    "# 데이터 분석을 함에 있어서 우편번호는 - 만으로는 적용 불가 따라서 반드시 대체(단, 고객정보 무를 의미하는 nan값으로 대체)\n",
    "mem_data.loc[mem_data.ZIP_CD == '-', 'ZIP_CD'] = np.nan"
   ]
  },
  {
   "cell_type": "code",
   "execution_count": 16,
   "metadata": {},
   "outputs": [
    {
     "data": {
      "text/plain": [
       "158-826    14\n",
       "467-866    11\n",
       "480-070    11\n",
       "467-070     8\n",
       "482-852     8\n",
       "           ..\n",
       "134-060     1\n",
       "142-102     1\n",
       "420-846     1\n",
       "480-755     1\n",
       "630-757     1\n",
       "Name: ZIP_CD, Length: 623, dtype: int64"
      ]
     },
     "execution_count": 16,
     "metadata": {},
     "output_type": "execute_result"
    }
   ],
   "source": [
    "mem_data.ZIP_CD.value_counts()"
   ]
  },
  {
   "cell_type": "code",
   "execution_count": 17,
   "metadata": {},
   "outputs": [
    {
     "data": {
      "text/plain": [
       "Index(['MEM_ID', 'M_STORE_ID', 'GENDER', 'BIRTH_DT', 'BIRTH_SL', 'ZIP_CD',\n",
       "       'RGST_DT', 'VISIT_CNT', 'SALES_AMT', 'LAST_VST_DT', 'USABLE_PNT',\n",
       "       'USED_PNT', 'ACC_PNT', 'USABLE_INIT', 'SMS'],\n",
       "      dtype='object')"
      ]
     },
     "execution_count": 17,
     "metadata": {},
     "output_type": "execute_result"
    }
   ],
   "source": [
    "mem_data.columns"
   ]
  },
  {
   "cell_type": "code",
   "execution_count": null,
   "metadata": {},
   "outputs": [],
   "source": []
  },
  {
   "cell_type": "markdown",
   "metadata": {},
   "source": [
    "<hr>\n",
    "\n",
    "**날짜형 변수 처리**"
   ]
  },
  {
   "cell_type": "code",
   "execution_count": 18,
   "metadata": {},
   "outputs": [
    {
     "data": {
      "text/html": [
       "<div>\n",
       "<style scoped>\n",
       "    .dataframe tbody tr th:only-of-type {\n",
       "        vertical-align: middle;\n",
       "    }\n",
       "\n",
       "    .dataframe tbody tr th {\n",
       "        vertical-align: top;\n",
       "    }\n",
       "\n",
       "    .dataframe thead th {\n",
       "        text-align: right;\n",
       "    }\n",
       "</style>\n",
       "<table border=\"1\" class=\"dataframe\">\n",
       "  <thead>\n",
       "    <tr style=\"text-align: right;\">\n",
       "      <th></th>\n",
       "      <th>BIRTH_DT</th>\n",
       "      <th>RGST_DT</th>\n",
       "      <th>LAST_VST_DT</th>\n",
       "    </tr>\n",
       "  </thead>\n",
       "  <tbody>\n",
       "    <tr>\n",
       "      <th>0</th>\n",
       "      <td>NaN</td>\n",
       "      <td>2006-02-04 11:51:08.233000000</td>\n",
       "      <td>2007-01-19 21:46:12.827000000</td>\n",
       "    </tr>\n",
       "    <tr>\n",
       "      <th>1</th>\n",
       "      <td>1973-07-11</td>\n",
       "      <td>2006-02-04 11:51:08.233000000</td>\n",
       "      <td>2007-10-18 19:57:45.503000000</td>\n",
       "    </tr>\n",
       "    <tr>\n",
       "      <th>2</th>\n",
       "      <td>1973-04-06</td>\n",
       "      <td>2006-02-04 11:51:08.233000000</td>\n",
       "      <td>2007-05-30 15:21:10.863000000</td>\n",
       "    </tr>\n",
       "    <tr>\n",
       "      <th>3</th>\n",
       "      <td>NaN</td>\n",
       "      <td>2006-02-04 11:51:08.233000000</td>\n",
       "      <td>2007-03-25 12:49:30.170000000</td>\n",
       "    </tr>\n",
       "    <tr>\n",
       "      <th>4</th>\n",
       "      <td>NaN</td>\n",
       "      <td>2006-02-05 16:56:58</td>\n",
       "      <td>2006-09-09 14:55:21.687000000</td>\n",
       "    </tr>\n",
       "    <tr>\n",
       "      <th>...</th>\n",
       "      <td>...</td>\n",
       "      <td>...</td>\n",
       "      <td>...</td>\n",
       "    </tr>\n",
       "    <tr>\n",
       "      <th>7529</th>\n",
       "      <td>1983-04-28</td>\n",
       "      <td>2006-02-04 11:51:08.233000000</td>\n",
       "      <td>2007-10-28 12:35:20.587000000</td>\n",
       "    </tr>\n",
       "    <tr>\n",
       "      <th>7530</th>\n",
       "      <td>1981-08-24</td>\n",
       "      <td>2006-02-04 11:51:08.233000000</td>\n",
       "      <td>2007-11-07 19:22:06.137000000</td>\n",
       "    </tr>\n",
       "    <tr>\n",
       "      <th>7531</th>\n",
       "      <td>NaN</td>\n",
       "      <td>2006-02-04 11:51:08.233000000</td>\n",
       "      <td>2007-04-14 21:13:18.977000000</td>\n",
       "    </tr>\n",
       "    <tr>\n",
       "      <th>7532</th>\n",
       "      <td>NaN</td>\n",
       "      <td>2006-02-04 11:51:08.233000000</td>\n",
       "      <td>2007-09-12 12:58:43.683000000</td>\n",
       "    </tr>\n",
       "    <tr>\n",
       "      <th>7533</th>\n",
       "      <td>1979-12-31</td>\n",
       "      <td>2006-02-04 11:51:08.233000000</td>\n",
       "      <td>2007-02-26 20:59:18.540000000</td>\n",
       "    </tr>\n",
       "  </tbody>\n",
       "</table>\n",
       "<p>7534 rows × 3 columns</p>\n",
       "</div>"
      ],
      "text/plain": [
       "        BIRTH_DT                        RGST_DT                    LAST_VST_DT\n",
       "0            NaN  2006-02-04 11:51:08.233000000  2007-01-19 21:46:12.827000000\n",
       "1     1973-07-11  2006-02-04 11:51:08.233000000  2007-10-18 19:57:45.503000000\n",
       "2     1973-04-06  2006-02-04 11:51:08.233000000  2007-05-30 15:21:10.863000000\n",
       "3            NaN  2006-02-04 11:51:08.233000000  2007-03-25 12:49:30.170000000\n",
       "4            NaN            2006-02-05 16:56:58  2006-09-09 14:55:21.687000000\n",
       "...          ...                            ...                            ...\n",
       "7529  1983-04-28  2006-02-04 11:51:08.233000000  2007-10-28 12:35:20.587000000\n",
       "7530  1981-08-24  2006-02-04 11:51:08.233000000  2007-11-07 19:22:06.137000000\n",
       "7531         NaN  2006-02-04 11:51:08.233000000  2007-04-14 21:13:18.977000000\n",
       "7532         NaN  2006-02-04 11:51:08.233000000  2007-09-12 12:58:43.683000000\n",
       "7533  1979-12-31  2006-02-04 11:51:08.233000000  2007-02-26 20:59:18.540000000\n",
       "\n",
       "[7534 rows x 3 columns]"
      ]
     },
     "execution_count": 18,
     "metadata": {},
     "output_type": "execute_result"
    }
   ],
   "source": [
    "col = ['BIRTH_DT', 'RGST_DT', 'LAST_VST_DT']\n",
    "mem_data[col]"
   ]
  },
  {
   "cell_type": "code",
   "execution_count": 19,
   "metadata": {},
   "outputs": [
    {
     "data": {
      "text/plain": [
       "['BIRTH_DT', 'RGST_DT', 'LAST_VST_DT']"
      ]
     },
     "execution_count": 19,
     "metadata": {},
     "output_type": "execute_result"
    }
   ],
   "source": [
    "col"
   ]
  },
  {
   "cell_type": "code",
   "execution_count": 20,
   "metadata": {},
   "outputs": [],
   "source": [
    "# 각 시리즈(컬럼)별 row수 만큼 함수 호출 : apply()\n",
    "# to_datetime() 변환시 Nan값으로 에러 발생  \n",
    "# 결측치는 그냥 결측치로 하면서 유효 데이터만 날짜 포멧 변경 가능한 옵션 : errors='coerce'\n",
    "# NaN -> NaT 변경\n",
    "\n",
    "mem_data[col] = mem_data[col].apply(pd.to_datetime, errors='coerce')"
   ]
  },
  {
   "cell_type": "code",
   "execution_count": 21,
   "metadata": {},
   "outputs": [
    {
     "data": {
      "text/html": [
       "<div>\n",
       "<style scoped>\n",
       "    .dataframe tbody tr th:only-of-type {\n",
       "        vertical-align: middle;\n",
       "    }\n",
       "\n",
       "    .dataframe tbody tr th {\n",
       "        vertical-align: top;\n",
       "    }\n",
       "\n",
       "    .dataframe thead th {\n",
       "        text-align: right;\n",
       "    }\n",
       "</style>\n",
       "<table border=\"1\" class=\"dataframe\">\n",
       "  <thead>\n",
       "    <tr style=\"text-align: right;\">\n",
       "      <th></th>\n",
       "      <th>BIRTH_DT</th>\n",
       "      <th>RGST_DT</th>\n",
       "      <th>LAST_VST_DT</th>\n",
       "    </tr>\n",
       "  </thead>\n",
       "  <tbody>\n",
       "    <tr>\n",
       "      <th>0</th>\n",
       "      <td>NaT</td>\n",
       "      <td>2006-02-04 11:51:08.233</td>\n",
       "      <td>2007-01-19 21:46:12.827</td>\n",
       "    </tr>\n",
       "    <tr>\n",
       "      <th>1</th>\n",
       "      <td>1973-07-11</td>\n",
       "      <td>2006-02-04 11:51:08.233</td>\n",
       "      <td>2007-10-18 19:57:45.503</td>\n",
       "    </tr>\n",
       "    <tr>\n",
       "      <th>2</th>\n",
       "      <td>1973-04-06</td>\n",
       "      <td>2006-02-04 11:51:08.233</td>\n",
       "      <td>2007-05-30 15:21:10.863</td>\n",
       "    </tr>\n",
       "    <tr>\n",
       "      <th>3</th>\n",
       "      <td>NaT</td>\n",
       "      <td>2006-02-04 11:51:08.233</td>\n",
       "      <td>2007-03-25 12:49:30.170</td>\n",
       "    </tr>\n",
       "    <tr>\n",
       "      <th>4</th>\n",
       "      <td>NaT</td>\n",
       "      <td>2006-02-05 16:56:58.000</td>\n",
       "      <td>2006-09-09 14:55:21.687</td>\n",
       "    </tr>\n",
       "    <tr>\n",
       "      <th>...</th>\n",
       "      <td>...</td>\n",
       "      <td>...</td>\n",
       "      <td>...</td>\n",
       "    </tr>\n",
       "    <tr>\n",
       "      <th>7529</th>\n",
       "      <td>1983-04-28</td>\n",
       "      <td>2006-02-04 11:51:08.233</td>\n",
       "      <td>2007-10-28 12:35:20.587</td>\n",
       "    </tr>\n",
       "    <tr>\n",
       "      <th>7530</th>\n",
       "      <td>1981-08-24</td>\n",
       "      <td>2006-02-04 11:51:08.233</td>\n",
       "      <td>2007-11-07 19:22:06.137</td>\n",
       "    </tr>\n",
       "    <tr>\n",
       "      <th>7531</th>\n",
       "      <td>NaT</td>\n",
       "      <td>2006-02-04 11:51:08.233</td>\n",
       "      <td>2007-04-14 21:13:18.977</td>\n",
       "    </tr>\n",
       "    <tr>\n",
       "      <th>7532</th>\n",
       "      <td>NaT</td>\n",
       "      <td>2006-02-04 11:51:08.233</td>\n",
       "      <td>2007-09-12 12:58:43.683</td>\n",
       "    </tr>\n",
       "    <tr>\n",
       "      <th>7533</th>\n",
       "      <td>1979-12-31</td>\n",
       "      <td>2006-02-04 11:51:08.233</td>\n",
       "      <td>2007-02-26 20:59:18.540</td>\n",
       "    </tr>\n",
       "  </tbody>\n",
       "</table>\n",
       "<p>7534 rows × 3 columns</p>\n",
       "</div>"
      ],
      "text/plain": [
       "       BIRTH_DT                 RGST_DT             LAST_VST_DT\n",
       "0           NaT 2006-02-04 11:51:08.233 2007-01-19 21:46:12.827\n",
       "1    1973-07-11 2006-02-04 11:51:08.233 2007-10-18 19:57:45.503\n",
       "2    1973-04-06 2006-02-04 11:51:08.233 2007-05-30 15:21:10.863\n",
       "3           NaT 2006-02-04 11:51:08.233 2007-03-25 12:49:30.170\n",
       "4           NaT 2006-02-05 16:56:58.000 2006-09-09 14:55:21.687\n",
       "...         ...                     ...                     ...\n",
       "7529 1983-04-28 2006-02-04 11:51:08.233 2007-10-28 12:35:20.587\n",
       "7530 1981-08-24 2006-02-04 11:51:08.233 2007-11-07 19:22:06.137\n",
       "7531        NaT 2006-02-04 11:51:08.233 2007-04-14 21:13:18.977\n",
       "7532        NaT 2006-02-04 11:51:08.233 2007-09-12 12:58:43.683\n",
       "7533 1979-12-31 2006-02-04 11:51:08.233 2007-02-26 20:59:18.540\n",
       "\n",
       "[7534 rows x 3 columns]"
      ]
     },
     "execution_count": 21,
     "metadata": {},
     "output_type": "execute_result"
    }
   ],
   "source": [
    "mem_data[col]"
   ]
  },
  {
   "cell_type": "code",
   "execution_count": 22,
   "metadata": {},
   "outputs": [
    {
     "data": {
      "text/plain": [
       "Index(['MEM_ID', 'M_STORE_ID', 'GENDER', 'BIRTH_DT', 'BIRTH_SL', 'ZIP_CD',\n",
       "       'RGST_DT', 'VISIT_CNT', 'SALES_AMT', 'LAST_VST_DT', 'USABLE_PNT',\n",
       "       'USED_PNT', 'ACC_PNT', 'USABLE_INIT', 'SMS'],\n",
       "      dtype='object')"
      ]
     },
     "execution_count": 22,
     "metadata": {},
     "output_type": "execute_result"
    }
   ],
   "source": [
    "mem_data.columns"
   ]
  },
  {
   "cell_type": "markdown",
   "metadata": {},
   "source": [
    "**나이 컬럼 추가**"
   ]
  },
  {
   "cell_type": "code",
   "execution_count": 23,
   "metadata": {},
   "outputs": [
    {
     "data": {
      "text/plain": [
       "0             NaT\n",
       "1      1973-07-11\n",
       "2      1973-04-06\n",
       "3             NaT\n",
       "4             NaT\n",
       "          ...    \n",
       "7529   1983-04-28\n",
       "7530   1981-08-24\n",
       "7531          NaT\n",
       "7532          NaT\n",
       "7533   1979-12-31\n",
       "Name: BIRTH_DT, Length: 7534, dtype: datetime64[ns]"
      ]
     },
     "execution_count": 23,
     "metadata": {},
     "output_type": "execute_result"
    }
   ],
   "source": [
    "mem_data.BIRTH_DT"
   ]
  },
  {
   "cell_type": "code",
   "execution_count": 24,
   "metadata": {},
   "outputs": [
    {
     "data": {
      "text/plain": [
       "count                    4180\n",
       "unique                   3248\n",
       "top       2003-11-03 00:00:00\n",
       "freq                       90\n",
       "first     1937-08-12 00:00:00\n",
       "last      2067-10-24 00:00:00\n",
       "Name: BIRTH_DT, dtype: object"
      ]
     },
     "execution_count": 24,
     "metadata": {},
     "output_type": "execute_result"
    }
   ],
   "source": [
    "mem_data.BIRTH_DT.describe()"
   ]
  },
  {
   "cell_type": "code",
   "execution_count": 25,
   "metadata": {},
   "outputs": [
    {
     "data": {
      "text/plain": [
       "0             NaT\n",
       "1      17705 days\n",
       "2      17801 days\n",
       "3             NaT\n",
       "4             NaT\n",
       "          ...    \n",
       "7529   14127 days\n",
       "7530   14739 days\n",
       "7531          NaT\n",
       "7532          NaT\n",
       "7533   15341 days\n",
       "Name: BIRTH_DT, Length: 7534, dtype: timedelta64[ns]"
      ]
     },
     "execution_count": 25,
     "metadata": {},
     "output_type": "execute_result"
    }
   ],
   "source": [
    "pd.to_datetime('2021-12-31') - mem_data.BIRTH_DT"
   ]
  },
  {
   "cell_type": "code",
   "execution_count": 26,
   "metadata": {},
   "outputs": [
    {
     "data": {
      "text/plain": [
       "0           NaN\n",
       "1       17705.0\n",
       "2       17801.0\n",
       "3           NaN\n",
       "4           NaN\n",
       "         ...   \n",
       "7529    14127.0\n",
       "7530    14739.0\n",
       "7531        NaN\n",
       "7532        NaN\n",
       "7533    15341.0\n",
       "Name: BIRTH_DT, Length: 7534, dtype: float64"
      ]
     },
     "execution_count": 26,
     "metadata": {},
     "output_type": "execute_result"
    }
   ],
   "source": [
    "(pd.to_datetime('2021-12-31') - mem_data.BIRTH_DT).dt.days"
   ]
  },
  {
   "cell_type": "code",
   "execution_count": 27,
   "metadata": {},
   "outputs": [
    {
     "data": {
      "text/plain": [
       "0             NaN\n",
       "1       48.473648\n",
       "2       48.736482\n",
       "3             NaN\n",
       "4             NaN\n",
       "          ...    \n",
       "7529    38.677618\n",
       "7530    40.353183\n",
       "7531          NaN\n",
       "7532          NaN\n",
       "7533    42.001369\n",
       "Name: BIRTH_DT, Length: 7534, dtype: float64"
      ]
     },
     "execution_count": 27,
     "metadata": {},
     "output_type": "execute_result"
    }
   ],
   "source": [
    "# 윤년 포함된 연산 결과를 도출하기 위해 날짜에서 / 365가 아닌 365.25 수치값으로 나누라 함\n",
    "((pd.to_datetime('2021-12-31') - mem_data.BIRTH_DT).dt.days ) / 365.25"
   ]
  },
  {
   "cell_type": "code",
   "execution_count": 28,
   "metadata": {},
   "outputs": [],
   "source": [
    "# float타입 변환은 nan값 허용, int로 변환시도시에 nan값으로 에러 발생\n",
    "# 정수로 변경전 non값을 수치 0으로 변경후 int로 변환 \n",
    "\n",
    "#mem_data['AGE'] = (((pd.to_datetime('2021-12-31') - mem_data.BIRTH_DT).dt.days ) / 365.25).astype('int')"
   ]
  },
  {
   "cell_type": "code",
   "execution_count": 29,
   "metadata": {},
   "outputs": [],
   "source": [
    "mem_data['AGE'] = ((pd.to_datetime('2021-12-31') - mem_data.BIRTH_DT).dt.days ) / 365.25"
   ]
  },
  {
   "cell_type": "code",
   "execution_count": 30,
   "metadata": {},
   "outputs": [
    {
     "data": {
      "text/html": [
       "<div>\n",
       "<style scoped>\n",
       "    .dataframe tbody tr th:only-of-type {\n",
       "        vertical-align: middle;\n",
       "    }\n",
       "\n",
       "    .dataframe tbody tr th {\n",
       "        vertical-align: top;\n",
       "    }\n",
       "\n",
       "    .dataframe thead th {\n",
       "        text-align: right;\n",
       "    }\n",
       "</style>\n",
       "<table border=\"1\" class=\"dataframe\">\n",
       "  <thead>\n",
       "    <tr style=\"text-align: right;\">\n",
       "      <th></th>\n",
       "      <th>MEM_ID</th>\n",
       "      <th>M_STORE_ID</th>\n",
       "      <th>GENDER</th>\n",
       "      <th>BIRTH_DT</th>\n",
       "      <th>BIRTH_SL</th>\n",
       "      <th>ZIP_CD</th>\n",
       "      <th>RGST_DT</th>\n",
       "      <th>VISIT_CNT</th>\n",
       "      <th>SALES_AMT</th>\n",
       "      <th>LAST_VST_DT</th>\n",
       "      <th>USABLE_PNT</th>\n",
       "      <th>USED_PNT</th>\n",
       "      <th>ACC_PNT</th>\n",
       "      <th>USABLE_INIT</th>\n",
       "      <th>SMS</th>\n",
       "      <th>AGE</th>\n",
       "    </tr>\n",
       "  </thead>\n",
       "  <tbody>\n",
       "    <tr>\n",
       "      <th>0</th>\n",
       "      <td>1134945</td>\n",
       "      <td>1084</td>\n",
       "      <td>M</td>\n",
       "      <td>NaT</td>\n",
       "      <td>S</td>\n",
       "      <td>NaN</td>\n",
       "      <td>2006-02-04 11:51:08.233</td>\n",
       "      <td>8.0</td>\n",
       "      <td>337000.0</td>\n",
       "      <td>2007-01-19 21:46:12.827</td>\n",
       "      <td>6740.0</td>\n",
       "      <td>0.0</td>\n",
       "      <td>6740.0</td>\n",
       "      <td>3202.0</td>\n",
       "      <td>Y</td>\n",
       "      <td>NaN</td>\n",
       "    </tr>\n",
       "    <tr>\n",
       "      <th>1</th>\n",
       "      <td>38458</td>\n",
       "      <td>539</td>\n",
       "      <td>F</td>\n",
       "      <td>1973-07-11</td>\n",
       "      <td>S</td>\n",
       "      <td>420-721</td>\n",
       "      <td>2006-02-04 11:51:08.233</td>\n",
       "      <td>22.0</td>\n",
       "      <td>1438500.0</td>\n",
       "      <td>2007-10-18 19:57:45.503</td>\n",
       "      <td>1732.0</td>\n",
       "      <td>12000.0</td>\n",
       "      <td>13732.0</td>\n",
       "      <td>17762.0</td>\n",
       "      <td>Y</td>\n",
       "      <td>48.473648</td>\n",
       "    </tr>\n",
       "    <tr>\n",
       "      <th>2</th>\n",
       "      <td>7009</td>\n",
       "      <td>1113</td>\n",
       "      <td>F</td>\n",
       "      <td>1973-04-06</td>\n",
       "      <td>S</td>\n",
       "      <td>NaN</td>\n",
       "      <td>2006-02-04 11:51:08.233</td>\n",
       "      <td>8.0</td>\n",
       "      <td>309300.0</td>\n",
       "      <td>2007-05-30 15:21:10.863</td>\n",
       "      <td>6372.0</td>\n",
       "      <td>0.0</td>\n",
       "      <td>6372.0</td>\n",
       "      <td>1856.0</td>\n",
       "      <td>Y</td>\n",
       "      <td>48.736482</td>\n",
       "    </tr>\n",
       "    <tr>\n",
       "      <th>3</th>\n",
       "      <td>1374842</td>\n",
       "      <td>1300</td>\n",
       "      <td>M</td>\n",
       "      <td>NaT</td>\n",
       "      <td>S</td>\n",
       "      <td>NaN</td>\n",
       "      <td>2006-02-04 11:51:08.233</td>\n",
       "      <td>3.0</td>\n",
       "      <td>110300.0</td>\n",
       "      <td>2007-03-25 12:49:30.170</td>\n",
       "      <td>2206.0</td>\n",
       "      <td>0.0</td>\n",
       "      <td>2206.0</td>\n",
       "      <td>1522.0</td>\n",
       "      <td>Y</td>\n",
       "      <td>NaN</td>\n",
       "    </tr>\n",
       "    <tr>\n",
       "      <th>4</th>\n",
       "      <td>1383660</td>\n",
       "      <td>1024</td>\n",
       "      <td>M</td>\n",
       "      <td>NaT</td>\n",
       "      <td>S</td>\n",
       "      <td>NaN</td>\n",
       "      <td>2006-02-05 16:56:58.000</td>\n",
       "      <td>2.0</td>\n",
       "      <td>33500.0</td>\n",
       "      <td>2006-09-09 14:55:21.687</td>\n",
       "      <td>670.0</td>\n",
       "      <td>0.0</td>\n",
       "      <td>670.0</td>\n",
       "      <td>110.0</td>\n",
       "      <td>Y</td>\n",
       "      <td>NaN</td>\n",
       "    </tr>\n",
       "  </tbody>\n",
       "</table>\n",
       "</div>"
      ],
      "text/plain": [
       "    MEM_ID  M_STORE_ID GENDER   BIRTH_DT BIRTH_SL   ZIP_CD  \\\n",
       "0  1134945        1084      M        NaT        S      NaN   \n",
       "1    38458         539      F 1973-07-11        S  420-721   \n",
       "2     7009        1113      F 1973-04-06        S      NaN   \n",
       "3  1374842        1300      M        NaT        S      NaN   \n",
       "4  1383660        1024      M        NaT        S      NaN   \n",
       "\n",
       "                  RGST_DT  VISIT_CNT  SALES_AMT             LAST_VST_DT  \\\n",
       "0 2006-02-04 11:51:08.233        8.0   337000.0 2007-01-19 21:46:12.827   \n",
       "1 2006-02-04 11:51:08.233       22.0  1438500.0 2007-10-18 19:57:45.503   \n",
       "2 2006-02-04 11:51:08.233        8.0   309300.0 2007-05-30 15:21:10.863   \n",
       "3 2006-02-04 11:51:08.233        3.0   110300.0 2007-03-25 12:49:30.170   \n",
       "4 2006-02-05 16:56:58.000        2.0    33500.0 2006-09-09 14:55:21.687   \n",
       "\n",
       "   USABLE_PNT  USED_PNT  ACC_PNT  USABLE_INIT SMS        AGE  \n",
       "0      6740.0       0.0   6740.0       3202.0   Y        NaN  \n",
       "1      1732.0   12000.0  13732.0      17762.0   Y  48.473648  \n",
       "2      6372.0       0.0   6372.0       1856.0   Y  48.736482  \n",
       "3      2206.0       0.0   2206.0       1522.0   Y        NaN  \n",
       "4       670.0       0.0    670.0        110.0   Y        NaN  "
      ]
     },
     "execution_count": 30,
     "metadata": {},
     "output_type": "execute_result"
    }
   ],
   "source": [
    "mem_data.head()"
   ]
  },
  {
   "cell_type": "code",
   "execution_count": 31,
   "metadata": {},
   "outputs": [
    {
     "name": "stdout",
     "output_type": "stream",
     "text": [
      "<class 'pandas.core.frame.DataFrame'>\n",
      "RangeIndex: 7534 entries, 0 to 7533\n",
      "Data columns (total 16 columns):\n",
      " #   Column       Non-Null Count  Dtype         \n",
      "---  ------       --------------  -----         \n",
      " 0   MEM_ID       7534 non-null   int64         \n",
      " 1   M_STORE_ID   7534 non-null   int64         \n",
      " 2   GENDER       7534 non-null   object        \n",
      " 3   BIRTH_DT     4180 non-null   datetime64[ns]\n",
      " 4   BIRTH_SL     7534 non-null   object        \n",
      " 5   ZIP_CD       949 non-null    object        \n",
      " 6   RGST_DT      7534 non-null   datetime64[ns]\n",
      " 7   VISIT_CNT    7534 non-null   float64       \n",
      " 8   SALES_AMT    7534 non-null   float64       \n",
      " 9   LAST_VST_DT  7534 non-null   datetime64[ns]\n",
      " 10  USABLE_PNT   7534 non-null   float64       \n",
      " 11  USED_PNT     7534 non-null   float64       \n",
      " 12  ACC_PNT      7534 non-null   float64       \n",
      " 13  USABLE_INIT  7534 non-null   float64       \n",
      " 14  SMS          7534 non-null   object        \n",
      " 15  AGE          4180 non-null   float64       \n",
      "dtypes: datetime64[ns](3), float64(7), int64(2), object(4)\n",
      "memory usage: 941.9+ KB\n"
     ]
    }
   ],
   "source": [
    "mem_data.info()"
   ]
  },
  {
   "cell_type": "code",
   "execution_count": 32,
   "metadata": {},
   "outputs": [
    {
     "data": {
      "text/plain": [
       "0             NaT\n",
       "1      1973-07-11\n",
       "2      1973-04-06\n",
       "3             NaT\n",
       "4             NaT\n",
       "          ...    \n",
       "7529   1983-04-28\n",
       "7530   1981-08-24\n",
       "7531          NaT\n",
       "7532          NaT\n",
       "7533   1979-12-31\n",
       "Name: BIRTH_DT, Length: 7534, dtype: datetime64[ns]"
      ]
     },
     "execution_count": 32,
     "metadata": {},
     "output_type": "execute_result"
    }
   ],
   "source": [
    "mem_data.BIRTH_DT"
   ]
  },
  {
   "cell_type": "code",
   "execution_count": 33,
   "metadata": {},
   "outputs": [
    {
     "data": {
      "text/plain": [
       "0        NaN\n",
       "1        7.0\n",
       "2        4.0\n",
       "3        NaN\n",
       "4        NaN\n",
       "        ... \n",
       "7529     4.0\n",
       "7530     8.0\n",
       "7531     NaN\n",
       "7532     NaN\n",
       "7533    12.0\n",
       "Name: BIRTH_DT, Length: 7534, dtype: float64"
      ]
     },
     "execution_count": 33,
     "metadata": {},
     "output_type": "execute_result"
    }
   ],
   "source": [
    "mem_data.BIRTH_DT.dt.month"
   ]
  },
  {
   "cell_type": "code",
   "execution_count": 34,
   "metadata": {},
   "outputs": [
    {
     "data": {
      "text/plain": [
       "0          NaN\n",
       "1       1973.0\n",
       "2       1973.0\n",
       "3          NaN\n",
       "4          NaN\n",
       "         ...  \n",
       "7529    1983.0\n",
       "7530    1981.0\n",
       "7531       NaN\n",
       "7532       NaN\n",
       "7533    1979.0\n",
       "Name: BIRTH_DT, Length: 7534, dtype: float64"
      ]
     },
     "execution_count": 34,
     "metadata": {},
     "output_type": "execute_result"
    }
   ],
   "source": [
    "mem_data.BIRTH_DT.dt.year"
   ]
  },
  {
   "cell_type": "markdown",
   "metadata": {},
   "source": [
    "**등록월 추출해서 R_MONTH라는 컬럼 추가**"
   ]
  },
  {
   "cell_type": "code",
   "execution_count": 35,
   "metadata": {},
   "outputs": [],
   "source": [
    "# 등록일 컬럼 - RGST_DT\n",
    "mem_data['R_MONTH'] = mem_data.RGST_DT.dt.month"
   ]
  },
  {
   "cell_type": "code",
   "execution_count": 36,
   "metadata": {},
   "outputs": [
    {
     "data": {
      "text/plain": [
       "0       2\n",
       "1       2\n",
       "2       2\n",
       "3       2\n",
       "4       2\n",
       "       ..\n",
       "7529    2\n",
       "7530    2\n",
       "7531    2\n",
       "7532    2\n",
       "7533    2\n",
       "Name: R_MONTH, Length: 7534, dtype: int64"
      ]
     },
     "execution_count": 36,
     "metadata": {},
     "output_type": "execute_result"
    }
   ],
   "source": [
    "mem_data.R_MONTH"
   ]
  },
  {
   "cell_type": "code",
   "execution_count": 37,
   "metadata": {},
   "outputs": [
    {
     "data": {
      "text/plain": [
       "2     7485\n",
       "3       32\n",
       "5        3\n",
       "4        3\n",
       "7        2\n",
       "9        2\n",
       "1        2\n",
       "8        2\n",
       "11       1\n",
       "6        1\n",
       "12       1\n",
       "Name: R_MONTH, dtype: int64"
      ]
     },
     "execution_count": 37,
     "metadata": {},
     "output_type": "execute_result"
    }
   ],
   "source": [
    "mem_data.R_MONTH.value_counts()"
   ]
  },
  {
   "cell_type": "code",
   "execution_count": 38,
   "metadata": {},
   "outputs": [
    {
     "data": {
      "text/plain": [
       "0       2\n",
       "1       2\n",
       "2       2\n",
       "3       2\n",
       "4       2\n",
       "       ..\n",
       "7529    2\n",
       "7530    2\n",
       "7531    2\n",
       "7532    2\n",
       "7533    2\n",
       "Name: R_MONTH, Length: 7534, dtype: int64"
      ]
     },
     "execution_count": 38,
     "metadata": {},
     "output_type": "execute_result"
    }
   ],
   "source": [
    "mem_data.R_MONTH"
   ]
  },
  {
   "cell_type": "code",
   "execution_count": 39,
   "metadata": {},
   "outputs": [
    {
     "data": {
      "text/plain": [
       "0       2\n",
       "1       2\n",
       "2       2\n",
       "3       2\n",
       "4       2\n",
       "       ..\n",
       "7529    2\n",
       "7530    2\n",
       "7531    2\n",
       "7532    2\n",
       "7533    2\n",
       "Name: R_MONTH, Length: 7534, dtype: int64"
      ]
     },
     "execution_count": 39,
     "metadata": {},
     "output_type": "execute_result"
    }
   ],
   "source": [
    "mem_data.iloc[:, -1]"
   ]
  },
  {
   "cell_type": "code",
   "execution_count": 40,
   "metadata": {},
   "outputs": [
    {
     "data": {
      "text/plain": [
       "Index(['MEM_ID', 'M_STORE_ID', 'GENDER', 'BIRTH_DT', 'BIRTH_SL', 'ZIP_CD',\n",
       "       'RGST_DT', 'VISIT_CNT', 'SALES_AMT', 'LAST_VST_DT', 'USABLE_PNT',\n",
       "       'USED_PNT', 'ACC_PNT', 'USABLE_INIT', 'SMS', 'AGE', 'R_MONTH'],\n",
       "      dtype='object')"
      ]
     },
     "execution_count": 40,
     "metadata": {},
     "output_type": "execute_result"
    }
   ],
   "source": [
    "mem_data.columns"
   ]
  },
  {
   "cell_type": "markdown",
   "metadata": {},
   "source": [
    "<hr>\n",
    "\n",
    "**최근 방문 일자(LAST_VST_DT)로부터 경과일 구하기**"
   ]
  },
  {
   "cell_type": "code",
   "execution_count": 41,
   "metadata": {},
   "outputs": [
    {
     "data": {
      "text/plain": [
       "0      2007-01-19 21:46:12.827\n",
       "1      2007-10-18 19:57:45.503\n",
       "2      2007-05-30 15:21:10.863\n",
       "3      2007-03-25 12:49:30.170\n",
       "4      2006-09-09 14:55:21.687\n",
       "                 ...          \n",
       "7529   2007-10-28 12:35:20.587\n",
       "7530   2007-11-07 19:22:06.137\n",
       "7531   2007-04-14 21:13:18.977\n",
       "7532   2007-09-12 12:58:43.683\n",
       "7533   2007-02-26 20:59:18.540\n",
       "Name: LAST_VST_DT, Length: 7534, dtype: datetime64[ns]"
      ]
     },
     "execution_count": 41,
     "metadata": {},
     "output_type": "execute_result"
    }
   ],
   "source": [
    "mem_data.LAST_VST_DT"
   ]
  },
  {
   "cell_type": "code",
   "execution_count": 42,
   "metadata": {},
   "outputs": [
    {
     "data": {
      "text/plain": [
       "(7534, 17)"
      ]
     },
     "execution_count": 42,
     "metadata": {},
     "output_type": "execute_result"
    }
   ],
   "source": [
    "mem_data.shape"
   ]
  },
  {
   "cell_type": "code",
   "execution_count": 43,
   "metadata": {},
   "outputs": [
    {
     "data": {
      "text/plain": [
       "Timestamp('2007-11-08 21:22:11.797000')"
      ]
     },
     "execution_count": 43,
     "metadata": {},
     "output_type": "execute_result"
    }
   ],
   "source": [
    "mem_data.LAST_VST_DT.max()"
   ]
  },
  {
   "cell_type": "code",
   "execution_count": 44,
   "metadata": {},
   "outputs": [
    {
     "data": {
      "text/plain": [
       "2006-12-29 16:56:54.643    1\n",
       "2006-08-21 17:49:25.077    1\n",
       "2007-10-14 13:26:10.663    1\n",
       "2007-10-06 16:40:24.650    1\n",
       "2006-06-13 19:37:43.013    1\n",
       "                          ..\n",
       "2006-03-06 18:43:31.787    1\n",
       "2007-01-04 17:09:36.947    1\n",
       "2006-03-10 20:27:51.627    1\n",
       "2007-10-26 14:06:41.750    1\n",
       "2007-06-23 14:55:19.380    1\n",
       "Name: LAST_VST_DT, Length: 7534, dtype: int64"
      ]
     },
     "execution_count": 44,
     "metadata": {},
     "output_type": "execute_result"
    }
   ],
   "source": [
    "mem_data.LAST_VST_DT.value_counts()"
   ]
  },
  {
   "cell_type": "code",
   "execution_count": 45,
   "metadata": {},
   "outputs": [
    {
     "data": {
      "text/plain": [
       "0      292 days 02:13:47.173000\n",
       "1       20 days 04:02:14.497000\n",
       "2      161 days 08:38:49.137000\n",
       "3      227 days 11:10:29.830000\n",
       "4      424 days 09:04:38.313000\n",
       "                 ...           \n",
       "7529    10 days 11:24:39.413000\n",
       "7530     0 days 04:37:53.863000\n",
       "7531   207 days 02:46:41.023000\n",
       "7532    56 days 11:01:16.317000\n",
       "7533   254 days 03:00:41.460000\n",
       "Name: LAST_VST_DT, Length: 7534, dtype: timedelta64[ns]"
      ]
     },
     "execution_count": 45,
     "metadata": {},
     "output_type": "execute_result"
    }
   ],
   "source": [
    "(pd.to_datetime('2007-11-08') - mem_data.LAST_VST_DT)"
   ]
  },
  {
   "cell_type": "code",
   "execution_count": 46,
   "metadata": {},
   "outputs": [
    {
     "data": {
      "text/plain": [
       "0       292\n",
       "1        20\n",
       "2       161\n",
       "3       227\n",
       "4       424\n",
       "       ... \n",
       "7529     10\n",
       "7530      0\n",
       "7531    207\n",
       "7532     56\n",
       "7533    254\n",
       "Name: LAST_VST_DT, Length: 7534, dtype: int64"
      ]
     },
     "execution_count": 46,
     "metadata": {},
     "output_type": "execute_result"
    }
   ],
   "source": [
    "(pd.to_datetime('2007-11-08') - mem_data.LAST_VST_DT).dt.days"
   ]
  },
  {
   "cell_type": "code",
   "execution_count": 47,
   "metadata": {},
   "outputs": [
    {
     "name": "stdout",
     "output_type": "stream",
     "text": [
      "<class 'pandas.core.frame.DataFrame'>\n",
      "RangeIndex: 7534 entries, 0 to 7533\n",
      "Data columns (total 18 columns):\n",
      " #   Column       Non-Null Count  Dtype         \n",
      "---  ------       --------------  -----         \n",
      " 0   MEM_ID       7534 non-null   int64         \n",
      " 1   M_STORE_ID   7534 non-null   int64         \n",
      " 2   GENDER       7534 non-null   object        \n",
      " 3   BIRTH_DT     4180 non-null   datetime64[ns]\n",
      " 4   BIRTH_SL     7534 non-null   object        \n",
      " 5   ZIP_CD       949 non-null    object        \n",
      " 6   RGST_DT      7534 non-null   datetime64[ns]\n",
      " 7   VISIT_CNT    7534 non-null   float64       \n",
      " 8   SALES_AMT    7534 non-null   float64       \n",
      " 9   LAST_VST_DT  7534 non-null   datetime64[ns]\n",
      " 10  USABLE_PNT   7534 non-null   float64       \n",
      " 11  USED_PNT     7534 non-null   float64       \n",
      " 12  ACC_PNT      7534 non-null   float64       \n",
      " 13  USABLE_INIT  7534 non-null   float64       \n",
      " 14  SMS          7534 non-null   object        \n",
      " 15  AGE          4180 non-null   float64       \n",
      " 16  R_MONTH      7534 non-null   int64         \n",
      " 17  E_DAY        7534 non-null   int64         \n",
      "dtypes: datetime64[ns](3), float64(7), int64(4), object(4)\n",
      "memory usage: 1.0+ MB\n"
     ]
    }
   ],
   "source": [
    "mem_data['E_DAY'] = (pd.to_datetime('2007-11-08') - mem_data.LAST_VST_DT).dt.days\n",
    "mem_data.info()"
   ]
  },
  {
   "cell_type": "code",
   "execution_count": 48,
   "metadata": {},
   "outputs": [
    {
     "data": {
      "text/plain": [
       "0           NaN\n",
       "1       420-721\n",
       "2           NaN\n",
       "3           NaN\n",
       "4           NaN\n",
       "         ...   \n",
       "7529        NaN\n",
       "7530        NaN\n",
       "7531        NaN\n",
       "7532        NaN\n",
       "7533    142-872\n",
       "Name: ZIP_CD, Length: 7534, dtype: object"
      ]
     },
     "execution_count": 48,
     "metadata": {},
     "output_type": "execute_result"
    }
   ],
   "source": [
    "mem_data.ZIP_CD"
   ]
  },
  {
   "cell_type": "code",
   "execution_count": 49,
   "metadata": {},
   "outputs": [
    {
     "data": {
      "text/plain": [
       "pandas.core.strings.StringMethods"
      ]
     },
     "execution_count": 49,
     "metadata": {},
     "output_type": "execute_result"
    }
   ],
   "source": [
    "type(mem_data.ZIP_CD.str)"
   ]
  },
  {
   "cell_type": "code",
   "execution_count": 50,
   "metadata": {},
   "outputs": [
    {
     "data": {
      "text/plain": [
       "0       NaN\n",
       "1         4\n",
       "2       NaN\n",
       "3       NaN\n",
       "4       NaN\n",
       "       ... \n",
       "7529    NaN\n",
       "7530    NaN\n",
       "7531    NaN\n",
       "7532    NaN\n",
       "7533      1\n",
       "Name: ZIP_CD, Length: 7534, dtype: object"
      ]
     },
     "execution_count": 50,
     "metadata": {},
     "output_type": "execute_result"
    }
   ],
   "source": [
    "mem_data.ZIP_CD.str.get(0)"
   ]
  },
  {
   "cell_type": "code",
   "execution_count": 51,
   "metadata": {},
   "outputs": [
    {
     "name": "stdout",
     "output_type": "stream",
     "text": [
      "<class 'pandas.core.frame.DataFrame'>\n",
      "RangeIndex: 7534 entries, 0 to 7533\n",
      "Data columns (total 19 columns):\n",
      " #   Column       Non-Null Count  Dtype         \n",
      "---  ------       --------------  -----         \n",
      " 0   MEM_ID       7534 non-null   int64         \n",
      " 1   M_STORE_ID   7534 non-null   int64         \n",
      " 2   GENDER       7534 non-null   object        \n",
      " 3   BIRTH_DT     4180 non-null   datetime64[ns]\n",
      " 4   BIRTH_SL     7534 non-null   object        \n",
      " 5   ZIP_CD       949 non-null    object        \n",
      " 6   RGST_DT      7534 non-null   datetime64[ns]\n",
      " 7   VISIT_CNT    7534 non-null   float64       \n",
      " 8   SALES_AMT    7534 non-null   float64       \n",
      " 9   LAST_VST_DT  7534 non-null   datetime64[ns]\n",
      " 10  USABLE_PNT   7534 non-null   float64       \n",
      " 11  USED_PNT     7534 non-null   float64       \n",
      " 12  ACC_PNT      7534 non-null   float64       \n",
      " 13  USABLE_INIT  7534 non-null   float64       \n",
      " 14  SMS          7534 non-null   object        \n",
      " 15  AGE          4180 non-null   float64       \n",
      " 16  R_MONTH      7534 non-null   int64         \n",
      " 17  E_DAY        7534 non-null   int64         \n",
      " 18  R_REGION     949 non-null    object        \n",
      "dtypes: datetime64[ns](3), float64(7), int64(4), object(5)\n",
      "memory usage: 1.1+ MB\n"
     ]
    }
   ],
   "source": [
    "mem_data['R_REGION'] = mem_data.ZIP_CD.str.get(0)\n",
    "mem_data.info()"
   ]
  },
  {
   "cell_type": "code",
   "execution_count": null,
   "metadata": {},
   "outputs": [],
   "source": []
  },
  {
   "cell_type": "markdown",
   "metadata": {},
   "source": [
    "**다른 데이터와 연동하여 파생변수 생성해 보기**"
   ]
  },
  {
   "cell_type": "code",
   "execution_count": 52,
   "metadata": {},
   "outputs": [
    {
     "data": {
      "text/plain": [
       "Index(['MEM_ID', 'M_STORE_ID', 'GENDER', 'BIRTH_DT', 'BIRTH_SL', 'ZIP_CD',\n",
       "       'RGST_DT', 'VISIT_CNT', 'SALES_AMT', 'LAST_VST_DT', 'USABLE_PNT',\n",
       "       'USED_PNT', 'ACC_PNT', 'USABLE_INIT', 'SMS', 'AGE', 'R_MONTH', 'E_DAY',\n",
       "       'R_REGION'],\n",
       "      dtype='object')"
      ]
     },
     "execution_count": 52,
     "metadata": {},
     "output_type": "execute_result"
    }
   ],
   "source": [
    "mem_data.columns"
   ]
  },
  {
   "cell_type": "code",
   "execution_count": 53,
   "metadata": {},
   "outputs": [
    {
     "data": {
      "text/plain": [
       "Index(['STORE_ID', 'STORE_REGION'], dtype='object')"
      ]
     },
     "execution_count": 53,
     "metadata": {},
     "output_type": "execute_result"
    }
   ],
   "source": [
    "store_info.columns"
   ]
  },
  {
   "cell_type": "code",
   "execution_count": 54,
   "metadata": {},
   "outputs": [
    {
     "data": {
      "text/plain": [
       "(7534, 19)"
      ]
     },
     "execution_count": 54,
     "metadata": {},
     "output_type": "execute_result"
    }
   ],
   "source": [
    "mem_data.shape"
   ]
  },
  {
   "cell_type": "code",
   "execution_count": 55,
   "metadata": {},
   "outputs": [
    {
     "data": {
      "text/plain": [
       "(329, 2)"
      ]
     },
     "execution_count": 55,
     "metadata": {},
     "output_type": "execute_result"
    }
   ],
   "source": [
    "store_info.shape"
   ]
  },
  {
   "cell_type": "code",
   "execution_count": 56,
   "metadata": {},
   "outputs": [
    {
     "data": {
      "text/plain": [
       "(799, 21)"
      ]
     },
     "execution_count": 56,
     "metadata": {},
     "output_type": "execute_result"
    }
   ],
   "source": [
    "mem_data.merge(store_info, left_on='M_STORE_ID', right_on='STORE_ID').shape"
   ]
  },
  {
   "cell_type": "code",
   "execution_count": 57,
   "metadata": {},
   "outputs": [
    {
     "data": {
      "text/plain": [
       "(7534, 21)"
      ]
     },
     "execution_count": 57,
     "metadata": {},
     "output_type": "execute_result"
    }
   ],
   "source": [
    "mem_data.merge(store_info, left_on='M_STORE_ID', right_on='STORE_ID', how='left').shape"
   ]
  },
  {
   "cell_type": "code",
   "execution_count": 58,
   "metadata": {},
   "outputs": [
    {
     "name": "stdout",
     "output_type": "stream",
     "text": [
      "<class 'pandas.core.frame.DataFrame'>\n",
      "RangeIndex: 329 entries, 0 to 328\n",
      "Data columns (total 2 columns):\n",
      " #   Column        Non-Null Count  Dtype\n",
      "---  ------        --------------  -----\n",
      " 0   STORE_ID      329 non-null    int64\n",
      " 1   STORE_REGION  329 non-null    int64\n",
      "dtypes: int64(2)\n",
      "memory usage: 5.3 KB\n"
     ]
    }
   ],
   "source": [
    "store_info.info()"
   ]
  },
  {
   "cell_type": "code",
   "execution_count": 59,
   "metadata": {},
   "outputs": [
    {
     "data": {
      "text/plain": [
       "997     1643\n",
       "2273     693\n",
       "130      202\n",
       "1254     178\n",
       "1113     174\n",
       "        ... \n",
       "2095       1\n",
       "2103       1\n",
       "2127       1\n",
       "126        1\n",
       "2057       1\n",
       "Name: M_STORE_ID, Length: 342, dtype: int64"
      ]
     },
     "execution_count": 59,
     "metadata": {},
     "output_type": "execute_result"
    }
   ],
   "source": [
    "mem_data.M_STORE_ID.value_counts()"
   ]
  },
  {
   "cell_type": "code",
   "execution_count": 60,
   "metadata": {},
   "outputs": [
    {
     "data": {
      "text/plain": [
       "1643"
      ]
     },
     "execution_count": 60,
     "metadata": {},
     "output_type": "execute_result"
    }
   ],
   "source": [
    "(mem_data.M_STORE_ID == 997).sum()"
   ]
  },
  {
   "cell_type": "code",
   "execution_count": 61,
   "metadata": {},
   "outputs": [
    {
     "data": {
      "text/plain": [
       "0"
      ]
     },
     "execution_count": 61,
     "metadata": {},
     "output_type": "execute_result"
    }
   ],
   "source": [
    "(store_info.STORE_ID == 997).sum()"
   ]
  },
  {
   "cell_type": "code",
   "execution_count": 62,
   "metadata": {},
   "outputs": [
    {
     "data": {
      "text/plain": [
       "3071     1\n",
       "3710     1\n",
       "128      1\n",
       "129      1\n",
       "130      1\n",
       "        ..\n",
       "3407     1\n",
       "99980    1\n",
       "3409     1\n",
       "3211     1\n",
       "3072     1\n",
       "Name: STORE_ID, Length: 329, dtype: int64"
      ]
     },
     "execution_count": 62,
     "metadata": {},
     "output_type": "execute_result"
    }
   ],
   "source": [
    "store_info.STORE_ID.value_counts()"
   ]
  },
  {
   "cell_type": "code",
   "execution_count": 63,
   "metadata": {},
   "outputs": [
    {
     "data": {
      "text/html": [
       "<div>\n",
       "<style scoped>\n",
       "    .dataframe tbody tr th:only-of-type {\n",
       "        vertical-align: middle;\n",
       "    }\n",
       "\n",
       "    .dataframe tbody tr th {\n",
       "        vertical-align: top;\n",
       "    }\n",
       "\n",
       "    .dataframe thead th {\n",
       "        text-align: right;\n",
       "    }\n",
       "</style>\n",
       "<table border=\"1\" class=\"dataframe\">\n",
       "  <thead>\n",
       "    <tr style=\"text-align: right;\">\n",
       "      <th></th>\n",
       "      <th>MEM_ID</th>\n",
       "      <th>M_STORE_ID</th>\n",
       "      <th>GENDER</th>\n",
       "      <th>BIRTH_DT</th>\n",
       "      <th>BIRTH_SL</th>\n",
       "      <th>ZIP_CD</th>\n",
       "      <th>RGST_DT</th>\n",
       "      <th>VISIT_CNT</th>\n",
       "      <th>SALES_AMT</th>\n",
       "      <th>LAST_VST_DT</th>\n",
       "      <th>...</th>\n",
       "      <th>USED_PNT</th>\n",
       "      <th>ACC_PNT</th>\n",
       "      <th>USABLE_INIT</th>\n",
       "      <th>SMS</th>\n",
       "      <th>AGE</th>\n",
       "      <th>R_MONTH</th>\n",
       "      <th>E_DAY</th>\n",
       "      <th>R_REGION</th>\n",
       "      <th>STORE_ID</th>\n",
       "      <th>STORE_REGION</th>\n",
       "    </tr>\n",
       "  </thead>\n",
       "  <tbody>\n",
       "    <tr>\n",
       "      <th>0</th>\n",
       "      <td>1134945</td>\n",
       "      <td>1084</td>\n",
       "      <td>M</td>\n",
       "      <td>NaT</td>\n",
       "      <td>S</td>\n",
       "      <td>NaN</td>\n",
       "      <td>2006-02-04 11:51:08.233</td>\n",
       "      <td>8.0</td>\n",
       "      <td>337000.0</td>\n",
       "      <td>2007-01-19 21:46:12.827</td>\n",
       "      <td>...</td>\n",
       "      <td>0.0</td>\n",
       "      <td>6740.0</td>\n",
       "      <td>3202.0</td>\n",
       "      <td>Y</td>\n",
       "      <td>NaN</td>\n",
       "      <td>2</td>\n",
       "      <td>292</td>\n",
       "      <td>NaN</td>\n",
       "      <td>NaN</td>\n",
       "      <td>NaN</td>\n",
       "    </tr>\n",
       "    <tr>\n",
       "      <th>1</th>\n",
       "      <td>38458</td>\n",
       "      <td>539</td>\n",
       "      <td>F</td>\n",
       "      <td>1973-07-11</td>\n",
       "      <td>S</td>\n",
       "      <td>420-721</td>\n",
       "      <td>2006-02-04 11:51:08.233</td>\n",
       "      <td>22.0</td>\n",
       "      <td>1438500.0</td>\n",
       "      <td>2007-10-18 19:57:45.503</td>\n",
       "      <td>...</td>\n",
       "      <td>12000.0</td>\n",
       "      <td>13732.0</td>\n",
       "      <td>17762.0</td>\n",
       "      <td>Y</td>\n",
       "      <td>48.473648</td>\n",
       "      <td>2</td>\n",
       "      <td>20</td>\n",
       "      <td>4</td>\n",
       "      <td>NaN</td>\n",
       "      <td>NaN</td>\n",
       "    </tr>\n",
       "    <tr>\n",
       "      <th>2</th>\n",
       "      <td>7009</td>\n",
       "      <td>1113</td>\n",
       "      <td>F</td>\n",
       "      <td>1973-04-06</td>\n",
       "      <td>S</td>\n",
       "      <td>NaN</td>\n",
       "      <td>2006-02-04 11:51:08.233</td>\n",
       "      <td>8.0</td>\n",
       "      <td>309300.0</td>\n",
       "      <td>2007-05-30 15:21:10.863</td>\n",
       "      <td>...</td>\n",
       "      <td>0.0</td>\n",
       "      <td>6372.0</td>\n",
       "      <td>1856.0</td>\n",
       "      <td>Y</td>\n",
       "      <td>48.736482</td>\n",
       "      <td>2</td>\n",
       "      <td>161</td>\n",
       "      <td>NaN</td>\n",
       "      <td>NaN</td>\n",
       "      <td>NaN</td>\n",
       "    </tr>\n",
       "    <tr>\n",
       "      <th>3</th>\n",
       "      <td>1374842</td>\n",
       "      <td>1300</td>\n",
       "      <td>M</td>\n",
       "      <td>NaT</td>\n",
       "      <td>S</td>\n",
       "      <td>NaN</td>\n",
       "      <td>2006-02-04 11:51:08.233</td>\n",
       "      <td>3.0</td>\n",
       "      <td>110300.0</td>\n",
       "      <td>2007-03-25 12:49:30.170</td>\n",
       "      <td>...</td>\n",
       "      <td>0.0</td>\n",
       "      <td>2206.0</td>\n",
       "      <td>1522.0</td>\n",
       "      <td>Y</td>\n",
       "      <td>NaN</td>\n",
       "      <td>2</td>\n",
       "      <td>227</td>\n",
       "      <td>NaN</td>\n",
       "      <td>NaN</td>\n",
       "      <td>NaN</td>\n",
       "    </tr>\n",
       "    <tr>\n",
       "      <th>4</th>\n",
       "      <td>1383660</td>\n",
       "      <td>1024</td>\n",
       "      <td>M</td>\n",
       "      <td>NaT</td>\n",
       "      <td>S</td>\n",
       "      <td>NaN</td>\n",
       "      <td>2006-02-05 16:56:58.000</td>\n",
       "      <td>2.0</td>\n",
       "      <td>33500.0</td>\n",
       "      <td>2006-09-09 14:55:21.687</td>\n",
       "      <td>...</td>\n",
       "      <td>0.0</td>\n",
       "      <td>670.0</td>\n",
       "      <td>110.0</td>\n",
       "      <td>Y</td>\n",
       "      <td>NaN</td>\n",
       "      <td>2</td>\n",
       "      <td>424</td>\n",
       "      <td>NaN</td>\n",
       "      <td>NaN</td>\n",
       "      <td>NaN</td>\n",
       "    </tr>\n",
       "    <tr>\n",
       "      <th>...</th>\n",
       "      <td>...</td>\n",
       "      <td>...</td>\n",
       "      <td>...</td>\n",
       "      <td>...</td>\n",
       "      <td>...</td>\n",
       "      <td>...</td>\n",
       "      <td>...</td>\n",
       "      <td>...</td>\n",
       "      <td>...</td>\n",
       "      <td>...</td>\n",
       "      <td>...</td>\n",
       "      <td>...</td>\n",
       "      <td>...</td>\n",
       "      <td>...</td>\n",
       "      <td>...</td>\n",
       "      <td>...</td>\n",
       "      <td>...</td>\n",
       "      <td>...</td>\n",
       "      <td>...</td>\n",
       "      <td>...</td>\n",
       "      <td>...</td>\n",
       "    </tr>\n",
       "    <tr>\n",
       "      <th>7529</th>\n",
       "      <td>343892</td>\n",
       "      <td>130</td>\n",
       "      <td>F</td>\n",
       "      <td>1983-04-28</td>\n",
       "      <td>S</td>\n",
       "      <td>NaN</td>\n",
       "      <td>2006-02-04 11:51:08.233</td>\n",
       "      <td>22.0</td>\n",
       "      <td>383300.0</td>\n",
       "      <td>2007-10-28 12:35:20.587</td>\n",
       "      <td>...</td>\n",
       "      <td>0.0</td>\n",
       "      <td>7866.0</td>\n",
       "      <td>2884.0</td>\n",
       "      <td>Y</td>\n",
       "      <td>38.677618</td>\n",
       "      <td>2</td>\n",
       "      <td>10</td>\n",
       "      <td>NaN</td>\n",
       "      <td>130.0</td>\n",
       "      <td>11.0</td>\n",
       "    </tr>\n",
       "    <tr>\n",
       "      <th>7530</th>\n",
       "      <td>312177</td>\n",
       "      <td>130</td>\n",
       "      <td>F</td>\n",
       "      <td>1981-08-24</td>\n",
       "      <td>S</td>\n",
       "      <td>NaN</td>\n",
       "      <td>2006-02-04 11:51:08.233</td>\n",
       "      <td>18.0</td>\n",
       "      <td>385800.0</td>\n",
       "      <td>2007-11-07 19:22:06.137</td>\n",
       "      <td>...</td>\n",
       "      <td>7000.0</td>\n",
       "      <td>7870.0</td>\n",
       "      <td>4292.0</td>\n",
       "      <td>Y</td>\n",
       "      <td>40.353183</td>\n",
       "      <td>2</td>\n",
       "      <td>0</td>\n",
       "      <td>NaN</td>\n",
       "      <td>130.0</td>\n",
       "      <td>11.0</td>\n",
       "    </tr>\n",
       "    <tr>\n",
       "      <th>7531</th>\n",
       "      <td>454881</td>\n",
       "      <td>1181</td>\n",
       "      <td>M</td>\n",
       "      <td>NaT</td>\n",
       "      <td>S</td>\n",
       "      <td>NaN</td>\n",
       "      <td>2006-02-04 11:51:08.233</td>\n",
       "      <td>3.0</td>\n",
       "      <td>85800.0</td>\n",
       "      <td>2007-04-14 21:13:18.977</td>\n",
       "      <td>...</td>\n",
       "      <td>0.0</td>\n",
       "      <td>1716.0</td>\n",
       "      <td>0.0</td>\n",
       "      <td>Y</td>\n",
       "      <td>NaN</td>\n",
       "      <td>2</td>\n",
       "      <td>207</td>\n",
       "      <td>NaN</td>\n",
       "      <td>NaN</td>\n",
       "      <td>NaN</td>\n",
       "    </tr>\n",
       "    <tr>\n",
       "      <th>7532</th>\n",
       "      <td>973807</td>\n",
       "      <td>812</td>\n",
       "      <td>M</td>\n",
       "      <td>NaT</td>\n",
       "      <td>S</td>\n",
       "      <td>NaN</td>\n",
       "      <td>2006-02-04 11:51:08.233</td>\n",
       "      <td>4.0</td>\n",
       "      <td>208200.0</td>\n",
       "      <td>2007-09-12 12:58:43.683</td>\n",
       "      <td>...</td>\n",
       "      <td>0.0</td>\n",
       "      <td>4164.0</td>\n",
       "      <td>1110.0</td>\n",
       "      <td>Y</td>\n",
       "      <td>NaN</td>\n",
       "      <td>2</td>\n",
       "      <td>56</td>\n",
       "      <td>NaN</td>\n",
       "      <td>NaN</td>\n",
       "      <td>NaN</td>\n",
       "    </tr>\n",
       "    <tr>\n",
       "      <th>7533</th>\n",
       "      <td>47542</td>\n",
       "      <td>2273</td>\n",
       "      <td>F</td>\n",
       "      <td>1979-12-31</td>\n",
       "      <td>S</td>\n",
       "      <td>142-872</td>\n",
       "      <td>2006-02-04 11:51:08.233</td>\n",
       "      <td>3.0</td>\n",
       "      <td>208200.0</td>\n",
       "      <td>2007-02-26 20:59:18.540</td>\n",
       "      <td>...</td>\n",
       "      <td>0.0</td>\n",
       "      <td>4164.0</td>\n",
       "      <td>3368.0</td>\n",
       "      <td>Y</td>\n",
       "      <td>42.001369</td>\n",
       "      <td>2</td>\n",
       "      <td>254</td>\n",
       "      <td>1</td>\n",
       "      <td>NaN</td>\n",
       "      <td>NaN</td>\n",
       "    </tr>\n",
       "  </tbody>\n",
       "</table>\n",
       "<p>7534 rows × 21 columns</p>\n",
       "</div>"
      ],
      "text/plain": [
       "       MEM_ID  M_STORE_ID GENDER   BIRTH_DT BIRTH_SL   ZIP_CD  \\\n",
       "0     1134945        1084      M        NaT        S      NaN   \n",
       "1       38458         539      F 1973-07-11        S  420-721   \n",
       "2        7009        1113      F 1973-04-06        S      NaN   \n",
       "3     1374842        1300      M        NaT        S      NaN   \n",
       "4     1383660        1024      M        NaT        S      NaN   \n",
       "...       ...         ...    ...        ...      ...      ...   \n",
       "7529   343892         130      F 1983-04-28        S      NaN   \n",
       "7530   312177         130      F 1981-08-24        S      NaN   \n",
       "7531   454881        1181      M        NaT        S      NaN   \n",
       "7532   973807         812      M        NaT        S      NaN   \n",
       "7533    47542        2273      F 1979-12-31        S  142-872   \n",
       "\n",
       "                     RGST_DT  VISIT_CNT  SALES_AMT             LAST_VST_DT  \\\n",
       "0    2006-02-04 11:51:08.233        8.0   337000.0 2007-01-19 21:46:12.827   \n",
       "1    2006-02-04 11:51:08.233       22.0  1438500.0 2007-10-18 19:57:45.503   \n",
       "2    2006-02-04 11:51:08.233        8.0   309300.0 2007-05-30 15:21:10.863   \n",
       "3    2006-02-04 11:51:08.233        3.0   110300.0 2007-03-25 12:49:30.170   \n",
       "4    2006-02-05 16:56:58.000        2.0    33500.0 2006-09-09 14:55:21.687   \n",
       "...                      ...        ...        ...                     ...   \n",
       "7529 2006-02-04 11:51:08.233       22.0   383300.0 2007-10-28 12:35:20.587   \n",
       "7530 2006-02-04 11:51:08.233       18.0   385800.0 2007-11-07 19:22:06.137   \n",
       "7531 2006-02-04 11:51:08.233        3.0    85800.0 2007-04-14 21:13:18.977   \n",
       "7532 2006-02-04 11:51:08.233        4.0   208200.0 2007-09-12 12:58:43.683   \n",
       "7533 2006-02-04 11:51:08.233        3.0   208200.0 2007-02-26 20:59:18.540   \n",
       "\n",
       "      ...  USED_PNT  ACC_PNT  USABLE_INIT  SMS        AGE  R_MONTH  E_DAY  \\\n",
       "0     ...       0.0   6740.0       3202.0    Y        NaN        2    292   \n",
       "1     ...   12000.0  13732.0      17762.0    Y  48.473648        2     20   \n",
       "2     ...       0.0   6372.0       1856.0    Y  48.736482        2    161   \n",
       "3     ...       0.0   2206.0       1522.0    Y        NaN        2    227   \n",
       "4     ...       0.0    670.0        110.0    Y        NaN        2    424   \n",
       "...   ...       ...      ...          ...  ...        ...      ...    ...   \n",
       "7529  ...       0.0   7866.0       2884.0    Y  38.677618        2     10   \n",
       "7530  ...    7000.0   7870.0       4292.0    Y  40.353183        2      0   \n",
       "7531  ...       0.0   1716.0          0.0    Y        NaN        2    207   \n",
       "7532  ...       0.0   4164.0       1110.0    Y        NaN        2     56   \n",
       "7533  ...       0.0   4164.0       3368.0    Y  42.001369        2    254   \n",
       "\n",
       "      R_REGION STORE_ID  STORE_REGION  \n",
       "0          NaN      NaN           NaN  \n",
       "1            4      NaN           NaN  \n",
       "2          NaN      NaN           NaN  \n",
       "3          NaN      NaN           NaN  \n",
       "4          NaN      NaN           NaN  \n",
       "...        ...      ...           ...  \n",
       "7529       NaN    130.0          11.0  \n",
       "7530       NaN    130.0          11.0  \n",
       "7531       NaN      NaN           NaN  \n",
       "7532       NaN      NaN           NaN  \n",
       "7533         1      NaN           NaN  \n",
       "\n",
       "[7534 rows x 21 columns]"
      ]
     },
     "execution_count": 63,
     "metadata": {},
     "output_type": "execute_result"
    }
   ],
   "source": [
    "mem_data = mem_data.merge(store_info, left_on='M_STORE_ID', right_on='STORE_ID', how='left')\n",
    "mem_data"
   ]
  },
  {
   "cell_type": "code",
   "execution_count": 64,
   "metadata": {},
   "outputs": [
    {
     "name": "stdout",
     "output_type": "stream",
     "text": [
      "<class 'pandas.core.frame.DataFrame'>\n",
      "Int64Index: 7534 entries, 0 to 7533\n",
      "Data columns (total 20 columns):\n",
      " #   Column        Non-Null Count  Dtype         \n",
      "---  ------        --------------  -----         \n",
      " 0   MEM_ID        7534 non-null   int64         \n",
      " 1   M_STORE_ID    7534 non-null   int64         \n",
      " 2   GENDER        7534 non-null   object        \n",
      " 3   BIRTH_DT      4180 non-null   datetime64[ns]\n",
      " 4   BIRTH_SL      7534 non-null   object        \n",
      " 5   ZIP_CD        949 non-null    object        \n",
      " 6   RGST_DT       7534 non-null   datetime64[ns]\n",
      " 7   VISIT_CNT     7534 non-null   float64       \n",
      " 8   SALES_AMT     7534 non-null   float64       \n",
      " 9   LAST_VST_DT   7534 non-null   datetime64[ns]\n",
      " 10  USABLE_PNT    7534 non-null   float64       \n",
      " 11  USED_PNT      7534 non-null   float64       \n",
      " 12  ACC_PNT       7534 non-null   float64       \n",
      " 13  USABLE_INIT   7534 non-null   float64       \n",
      " 14  SMS           7534 non-null   object        \n",
      " 15  AGE           4180 non-null   float64       \n",
      " 16  R_MONTH       7534 non-null   int64         \n",
      " 17  E_DAY         7534 non-null   int64         \n",
      " 18  R_REGION      949 non-null    object        \n",
      " 19  STORE_REGION  799 non-null    float64       \n",
      "dtypes: datetime64[ns](3), float64(8), int64(4), object(5)\n",
      "memory usage: 1.2+ MB\n"
     ]
    }
   ],
   "source": [
    "# 의미없는 가맹정 STORE_ID 삭제(drop)\n",
    "mem_data = mem_data.drop('STORE_ID', axis='columns')\n",
    "mem_data.info()"
   ]
  },
  {
   "cell_type": "markdown",
   "metadata": {},
   "source": [
    "\n",
    "<hr>\n",
    "\n",
    "**mem_transaction.csv**\n",
    "\n",
    "- STORE_ID : 판매매장 코드\n",
    "- SELL_DT : 판매 일자\n",
    "- MEMP_STY : 주문시 생성(O), 추후 적립(M), 웹입력(W)\n",
    "- MEM_ID : 회원 코드 \n",
    "- SELL_AMT : 판매 금액\n",
    "- MEMP_TP : A:적립, U:사용, R:조회\n"
   ]
  },
  {
   "cell_type": "markdown",
   "metadata": {},
   "source": [
    "**평균 구매액을 고객정보 DataFrame에 추가 : TOTAL_AMT**"
   ]
  },
  {
   "cell_type": "code",
   "execution_count": 65,
   "metadata": {},
   "outputs": [
    {
     "data": {
      "text/plain": [
       "(60049, 7)"
      ]
     },
     "execution_count": 65,
     "metadata": {},
     "output_type": "execute_result"
    }
   ],
   "source": [
    "mem_tr.shape"
   ]
  },
  {
   "cell_type": "code",
   "execution_count": 66,
   "metadata": {},
   "outputs": [
    {
     "data": {
      "text/plain": [
       "Index(['STORE_ID', 'SELL_DT', 'MEMP_STY', 'MEM_ID', 'MEMP_DT', 'SELL_AMT',\n",
       "       'MEMP_TP'],\n",
       "      dtype='object')"
      ]
     },
     "execution_count": 66,
     "metadata": {},
     "output_type": "execute_result"
    }
   ],
   "source": [
    "mem_tr.columns"
   ]
  },
  {
   "cell_type": "code",
   "execution_count": 67,
   "metadata": {},
   "outputs": [
    {
     "data": {
      "text/plain": [
       "STORE_ID  SELL_DT   MEMP_STY  MEM_ID   MEMP_DT                        SELL_AMT  MEMP_TP\n",
       "1022001   20071028  O         829771   2007-10-28 17:58:24.093000000  38500     A          1\n",
       "997       20061108  O         1129661  2006-11-08 18:17:40.777000000  25700     A          1\n",
       "          20061109  O         455532   2006-11-09 12:05:52.407000000  28900     A          1\n",
       "                              411466   2006-11-09 19:34:57.217000000  20900     A          1\n",
       "                              398577   2006-11-09 19:56:40.833000000  5900      A          1\n",
       "                                                                                          ..\n",
       "1873      20060410  O         991020   2006-04-10 10:34:23.033000000  34800     A          1\n",
       "          20060407  O         1089365  2006-04-07 18:29:38.270000000  44400     A          1\n",
       "                              991297   2006-04-07 18:05:42.287000000  28700     A          1\n",
       "          20060402  O         1110470  2006-04-02 15:31:21.027000000  11800     A          1\n",
       "125       20060227  O         1225434  2006-02-27 13:57:44.750000000  15500     A          1\n",
       "Length: 60049, dtype: int64"
      ]
     },
     "execution_count": 67,
     "metadata": {},
     "output_type": "execute_result"
    }
   ],
   "source": [
    "mem_tr.value_counts()"
   ]
  },
  {
   "cell_type": "code",
   "execution_count": 68,
   "metadata": {},
   "outputs": [
    {
     "data": {
      "text/plain": [
       "<pandas.core.groupby.generic.SeriesGroupBy object at 0x000001D4013F4AF0>"
      ]
     },
     "execution_count": 68,
     "metadata": {},
     "output_type": "execute_result"
    }
   ],
   "source": [
    "mem_tr.groupby('MEM_ID')['SELL_AMT']"
   ]
  },
  {
   "cell_type": "code",
   "execution_count": 69,
   "metadata": {},
   "outputs": [
    {
     "data": {
      "text/html": [
       "<div>\n",
       "<style scoped>\n",
       "    .dataframe tbody tr th:only-of-type {\n",
       "        vertical-align: middle;\n",
       "    }\n",
       "\n",
       "    .dataframe tbody tr th {\n",
       "        vertical-align: top;\n",
       "    }\n",
       "\n",
       "    .dataframe thead th {\n",
       "        text-align: right;\n",
       "    }\n",
       "</style>\n",
       "<table border=\"1\" class=\"dataframe\">\n",
       "  <thead>\n",
       "    <tr style=\"text-align: right;\">\n",
       "      <th></th>\n",
       "      <th>TOTAL_AMT</th>\n",
       "    </tr>\n",
       "    <tr>\n",
       "      <th>MEM_ID</th>\n",
       "      <th></th>\n",
       "    </tr>\n",
       "  </thead>\n",
       "  <tbody>\n",
       "    <tr>\n",
       "      <th>957</th>\n",
       "      <td>2500.000000</td>\n",
       "    </tr>\n",
       "    <tr>\n",
       "      <th>1054</th>\n",
       "      <td>38120.000000</td>\n",
       "    </tr>\n",
       "    <tr>\n",
       "      <th>1067</th>\n",
       "      <td>7700.000000</td>\n",
       "    </tr>\n",
       "    <tr>\n",
       "      <th>1068</th>\n",
       "      <td>8255.555556</td>\n",
       "    </tr>\n",
       "    <tr>\n",
       "      <th>1078</th>\n",
       "      <td>5900.000000</td>\n",
       "    </tr>\n",
       "    <tr>\n",
       "      <th>...</th>\n",
       "      <td>...</td>\n",
       "    </tr>\n",
       "    <tr>\n",
       "      <th>2007042901468</th>\n",
       "      <td>3300.000000</td>\n",
       "    </tr>\n",
       "    <tr>\n",
       "      <th>2007061900497</th>\n",
       "      <td>7700.000000</td>\n",
       "    </tr>\n",
       "    <tr>\n",
       "      <th>2007062900420</th>\n",
       "      <td>5700.000000</td>\n",
       "    </tr>\n",
       "    <tr>\n",
       "      <th>2007090300653</th>\n",
       "      <td>32033.333333</td>\n",
       "    </tr>\n",
       "    <tr>\n",
       "      <th>2007090300704</th>\n",
       "      <td>23500.000000</td>\n",
       "    </tr>\n",
       "  </tbody>\n",
       "</table>\n",
       "<p>10764 rows × 1 columns</p>\n",
       "</div>"
      ],
      "text/plain": [
       "                  TOTAL_AMT\n",
       "MEM_ID                     \n",
       "957             2500.000000\n",
       "1054           38120.000000\n",
       "1067            7700.000000\n",
       "1068            8255.555556\n",
       "1078            5900.000000\n",
       "...                     ...\n",
       "2007042901468   3300.000000\n",
       "2007061900497   7700.000000\n",
       "2007062900420   5700.000000\n",
       "2007090300653  32033.333333\n",
       "2007090300704  23500.000000\n",
       "\n",
       "[10764 rows x 1 columns]"
      ]
     },
     "execution_count": 69,
     "metadata": {},
     "output_type": "execute_result"
    }
   ],
   "source": [
    "# 새로운 나온 편리한 문법 - 생성하고자 하는 시리즈(컬럼) 명시와 로직을 agg parameter로 적용\n",
    "mem_tr.groupby('MEM_ID')['SELL_AMT'].agg(TOTAL_AMT='mean')"
   ]
  },
  {
   "cell_type": "code",
   "execution_count": 70,
   "metadata": {},
   "outputs": [
    {
     "data": {
      "text/html": [
       "<div>\n",
       "<style scoped>\n",
       "    .dataframe tbody tr th:only-of-type {\n",
       "        vertical-align: middle;\n",
       "    }\n",
       "\n",
       "    .dataframe tbody tr th {\n",
       "        vertical-align: top;\n",
       "    }\n",
       "\n",
       "    .dataframe thead th {\n",
       "        text-align: right;\n",
       "    }\n",
       "</style>\n",
       "<table border=\"1\" class=\"dataframe\">\n",
       "  <thead>\n",
       "    <tr style=\"text-align: right;\">\n",
       "      <th></th>\n",
       "      <th>MEM_ID</th>\n",
       "      <th>TOTAL_AMT</th>\n",
       "    </tr>\n",
       "  </thead>\n",
       "  <tbody>\n",
       "    <tr>\n",
       "      <th>0</th>\n",
       "      <td>957</td>\n",
       "      <td>2500.000000</td>\n",
       "    </tr>\n",
       "    <tr>\n",
       "      <th>1</th>\n",
       "      <td>1054</td>\n",
       "      <td>38120.000000</td>\n",
       "    </tr>\n",
       "    <tr>\n",
       "      <th>2</th>\n",
       "      <td>1067</td>\n",
       "      <td>7700.000000</td>\n",
       "    </tr>\n",
       "    <tr>\n",
       "      <th>3</th>\n",
       "      <td>1068</td>\n",
       "      <td>8255.555556</td>\n",
       "    </tr>\n",
       "    <tr>\n",
       "      <th>4</th>\n",
       "      <td>1078</td>\n",
       "      <td>5900.000000</td>\n",
       "    </tr>\n",
       "    <tr>\n",
       "      <th>...</th>\n",
       "      <td>...</td>\n",
       "      <td>...</td>\n",
       "    </tr>\n",
       "    <tr>\n",
       "      <th>10759</th>\n",
       "      <td>2007042901468</td>\n",
       "      <td>3300.000000</td>\n",
       "    </tr>\n",
       "    <tr>\n",
       "      <th>10760</th>\n",
       "      <td>2007061900497</td>\n",
       "      <td>7700.000000</td>\n",
       "    </tr>\n",
       "    <tr>\n",
       "      <th>10761</th>\n",
       "      <td>2007062900420</td>\n",
       "      <td>5700.000000</td>\n",
       "    </tr>\n",
       "    <tr>\n",
       "      <th>10762</th>\n",
       "      <td>2007090300653</td>\n",
       "      <td>32033.333333</td>\n",
       "    </tr>\n",
       "    <tr>\n",
       "      <th>10763</th>\n",
       "      <td>2007090300704</td>\n",
       "      <td>23500.000000</td>\n",
       "    </tr>\n",
       "  </tbody>\n",
       "</table>\n",
       "<p>10764 rows × 2 columns</p>\n",
       "</div>"
      ],
      "text/plain": [
       "              MEM_ID     TOTAL_AMT\n",
       "0                957   2500.000000\n",
       "1               1054  38120.000000\n",
       "2               1067   7700.000000\n",
       "3               1068   8255.555556\n",
       "4               1078   5900.000000\n",
       "...              ...           ...\n",
       "10759  2007042901468   3300.000000\n",
       "10760  2007061900497   7700.000000\n",
       "10761  2007062900420   5700.000000\n",
       "10762  2007090300653  32033.333333\n",
       "10763  2007090300704  23500.000000\n",
       "\n",
       "[10764 rows x 2 columns]"
      ]
     },
     "execution_count": 70,
     "metadata": {},
     "output_type": "execute_result"
    }
   ],
   "source": [
    "# 레벨이 분리되어 있던 컬럼명을 동일한 레벨로 맞춤, reset_index 적용\n",
    "mem_tr.groupby('MEM_ID')['SELL_AMT'].agg(TOTAL_AMT='mean').reset_index()"
   ]
  },
  {
   "cell_type": "code",
   "execution_count": 71,
   "metadata": {},
   "outputs": [
    {
     "data": {
      "text/plain": [
       "0       1134945\n",
       "1         38458\n",
       "2          7009\n",
       "3       1374842\n",
       "4       1383660\n",
       "         ...   \n",
       "7529     343892\n",
       "7530     312177\n",
       "7531     454881\n",
       "7532     973807\n",
       "7533      47542\n",
       "Name: MEM_ID, Length: 7534, dtype: int64"
      ]
     },
     "execution_count": 71,
     "metadata": {},
     "output_type": "execute_result"
    }
   ],
   "source": [
    "mem_data.MEM_ID"
   ]
  },
  {
   "cell_type": "code",
   "execution_count": 72,
   "metadata": {},
   "outputs": [
    {
     "data": {
      "text/plain": [
       "2007090300653"
      ]
     },
     "execution_count": 72,
     "metadata": {},
     "output_type": "execute_result"
    }
   ],
   "source": [
    "mem_data.MEM_ID.max()"
   ]
  },
  {
   "cell_type": "code",
   "execution_count": 73,
   "metadata": {},
   "outputs": [
    {
     "data": {
      "text/plain": [
       "pandas.core.frame.DataFrame"
      ]
     },
     "execution_count": 73,
     "metadata": {},
     "output_type": "execute_result"
    }
   ],
   "source": [
    "v = mem_tr.groupby('MEM_ID')['SELL_AMT'].agg(TOTAL_AMT='mean').reset_index()\n",
    "type(v)"
   ]
  },
  {
   "cell_type": "code",
   "execution_count": 74,
   "metadata": {},
   "outputs": [
    {
     "data": {
      "text/plain": [
       "(10764, 2)"
      ]
     },
     "execution_count": 74,
     "metadata": {},
     "output_type": "execute_result"
    }
   ],
   "source": [
    "v.shape"
   ]
  },
  {
   "cell_type": "code",
   "execution_count": 75,
   "metadata": {},
   "outputs": [
    {
     "data": {
      "text/plain": [
       "Index(['MEM_ID', 'TOTAL_AMT'], dtype='object')"
      ]
     },
     "execution_count": 75,
     "metadata": {},
     "output_type": "execute_result"
    }
   ],
   "source": [
    "v.columns"
   ]
  },
  {
   "cell_type": "code",
   "execution_count": 76,
   "metadata": {},
   "outputs": [
    {
     "data": {
      "text/plain": [
       "MEM_ID         TOTAL_AMT   \n",
       "2007090300704  23500.000000    1\n",
       "561868         10005.882353    1\n",
       "562831         15663.636364    1\n",
       "562711         13600.000000    1\n",
       "562490         15400.000000    1\n",
       "                              ..\n",
       "1093990        6500.000000     1\n",
       "1093967        25475.000000    1\n",
       "1093926        18972.727273    1\n",
       "1093890        12475.000000    1\n",
       "957            2500.000000     1\n",
       "Length: 10764, dtype: int64"
      ]
     },
     "execution_count": 76,
     "metadata": {},
     "output_type": "execute_result"
    }
   ],
   "source": [
    "v.value_counts()"
   ]
  },
  {
   "cell_type": "code",
   "execution_count": 77,
   "metadata": {},
   "outputs": [
    {
     "data": {
      "text/plain": [
       "509951     1\n",
       "1132010    1\n",
       "904659     1\n",
       "701908     1\n",
       "26070      1\n",
       "          ..\n",
       "1244349    1\n",
       "602939     1\n",
       "969532     1\n",
       "1409853    1\n",
       "73732      1\n",
       "Name: MEM_ID, Length: 7534, dtype: int64"
      ]
     },
     "execution_count": 77,
     "metadata": {},
     "output_type": "execute_result"
    }
   ],
   "source": [
    "mem_data.MEM_ID.value_counts()"
   ]
  },
  {
   "cell_type": "code",
   "execution_count": 79,
   "metadata": {},
   "outputs": [],
   "source": [
    "v = mem_tr.groupby('MEM_ID')['SELL_AMT'].agg(TOTAL_AMT='mean').reset_index()\n",
    "# 어떻게 mem_data에 새로운 시리즈로 merge 해야 하나?"
   ]
  },
  {
   "cell_type": "code",
   "execution_count": 88,
   "metadata": {},
   "outputs": [],
   "source": [
    "temp = mem_data.merge(v, how='left')"
   ]
  },
  {
   "cell_type": "code",
   "execution_count": 89,
   "metadata": {},
   "outputs": [
    {
     "data": {
      "text/html": [
       "<div>\n",
       "<style scoped>\n",
       "    .dataframe tbody tr th:only-of-type {\n",
       "        vertical-align: middle;\n",
       "    }\n",
       "\n",
       "    .dataframe tbody tr th {\n",
       "        vertical-align: top;\n",
       "    }\n",
       "\n",
       "    .dataframe thead th {\n",
       "        text-align: right;\n",
       "    }\n",
       "</style>\n",
       "<table border=\"1\" class=\"dataframe\">\n",
       "  <thead>\n",
       "    <tr style=\"text-align: right;\">\n",
       "      <th></th>\n",
       "      <th>MEM_ID</th>\n",
       "      <th>M_STORE_ID</th>\n",
       "      <th>GENDER</th>\n",
       "      <th>BIRTH_DT</th>\n",
       "      <th>BIRTH_SL</th>\n",
       "      <th>ZIP_CD</th>\n",
       "      <th>RGST_DT</th>\n",
       "      <th>VISIT_CNT</th>\n",
       "      <th>SALES_AMT</th>\n",
       "      <th>LAST_VST_DT</th>\n",
       "      <th>...</th>\n",
       "      <th>USED_PNT</th>\n",
       "      <th>ACC_PNT</th>\n",
       "      <th>USABLE_INIT</th>\n",
       "      <th>SMS</th>\n",
       "      <th>AGE</th>\n",
       "      <th>R_MONTH</th>\n",
       "      <th>E_DAY</th>\n",
       "      <th>R_REGION</th>\n",
       "      <th>STORE_REGION</th>\n",
       "      <th>TOTAL_AMT</th>\n",
       "    </tr>\n",
       "  </thead>\n",
       "  <tbody>\n",
       "    <tr>\n",
       "      <th>0</th>\n",
       "      <td>1134945</td>\n",
       "      <td>1084</td>\n",
       "      <td>M</td>\n",
       "      <td>NaT</td>\n",
       "      <td>S</td>\n",
       "      <td>NaN</td>\n",
       "      <td>2006-02-04 11:51:08.233</td>\n",
       "      <td>8.0</td>\n",
       "      <td>337000.0</td>\n",
       "      <td>2007-01-19 21:46:12.827</td>\n",
       "      <td>...</td>\n",
       "      <td>0.0</td>\n",
       "      <td>6740.0</td>\n",
       "      <td>3202.0</td>\n",
       "      <td>Y</td>\n",
       "      <td>NaN</td>\n",
       "      <td>2</td>\n",
       "      <td>292</td>\n",
       "      <td>NaN</td>\n",
       "      <td>NaN</td>\n",
       "      <td>16262.500000</td>\n",
       "    </tr>\n",
       "    <tr>\n",
       "      <th>1</th>\n",
       "      <td>38458</td>\n",
       "      <td>539</td>\n",
       "      <td>F</td>\n",
       "      <td>1973-07-11</td>\n",
       "      <td>S</td>\n",
       "      <td>420-721</td>\n",
       "      <td>2006-02-04 11:51:08.233</td>\n",
       "      <td>22.0</td>\n",
       "      <td>1438500.0</td>\n",
       "      <td>2007-10-18 19:57:45.503</td>\n",
       "      <td>...</td>\n",
       "      <td>12000.0</td>\n",
       "      <td>13732.0</td>\n",
       "      <td>17762.0</td>\n",
       "      <td>Y</td>\n",
       "      <td>48.473648</td>\n",
       "      <td>2</td>\n",
       "      <td>20</td>\n",
       "      <td>4</td>\n",
       "      <td>NaN</td>\n",
       "      <td>25018.181818</td>\n",
       "    </tr>\n",
       "    <tr>\n",
       "      <th>2</th>\n",
       "      <td>7009</td>\n",
       "      <td>1113</td>\n",
       "      <td>F</td>\n",
       "      <td>1973-04-06</td>\n",
       "      <td>S</td>\n",
       "      <td>NaN</td>\n",
       "      <td>2006-02-04 11:51:08.233</td>\n",
       "      <td>8.0</td>\n",
       "      <td>309300.0</td>\n",
       "      <td>2007-05-30 15:21:10.863</td>\n",
       "      <td>...</td>\n",
       "      <td>0.0</td>\n",
       "      <td>6372.0</td>\n",
       "      <td>1856.0</td>\n",
       "      <td>Y</td>\n",
       "      <td>48.736482</td>\n",
       "      <td>2</td>\n",
       "      <td>161</td>\n",
       "      <td>NaN</td>\n",
       "      <td>NaN</td>\n",
       "      <td>22025.000000</td>\n",
       "    </tr>\n",
       "    <tr>\n",
       "      <th>3</th>\n",
       "      <td>1374842</td>\n",
       "      <td>1300</td>\n",
       "      <td>M</td>\n",
       "      <td>NaT</td>\n",
       "      <td>S</td>\n",
       "      <td>NaN</td>\n",
       "      <td>2006-02-04 11:51:08.233</td>\n",
       "      <td>3.0</td>\n",
       "      <td>110300.0</td>\n",
       "      <td>2007-03-25 12:49:30.170</td>\n",
       "      <td>...</td>\n",
       "      <td>0.0</td>\n",
       "      <td>2206.0</td>\n",
       "      <td>1522.0</td>\n",
       "      <td>Y</td>\n",
       "      <td>NaN</td>\n",
       "      <td>2</td>\n",
       "      <td>227</td>\n",
       "      <td>NaN</td>\n",
       "      <td>NaN</td>\n",
       "      <td>11400.000000</td>\n",
       "    </tr>\n",
       "    <tr>\n",
       "      <th>4</th>\n",
       "      <td>1383660</td>\n",
       "      <td>1024</td>\n",
       "      <td>M</td>\n",
       "      <td>NaT</td>\n",
       "      <td>S</td>\n",
       "      <td>NaN</td>\n",
       "      <td>2006-02-05 16:56:58.000</td>\n",
       "      <td>2.0</td>\n",
       "      <td>33500.0</td>\n",
       "      <td>2006-09-09 14:55:21.687</td>\n",
       "      <td>...</td>\n",
       "      <td>0.0</td>\n",
       "      <td>670.0</td>\n",
       "      <td>110.0</td>\n",
       "      <td>Y</td>\n",
       "      <td>NaN</td>\n",
       "      <td>2</td>\n",
       "      <td>424</td>\n",
       "      <td>NaN</td>\n",
       "      <td>NaN</td>\n",
       "      <td>14000.000000</td>\n",
       "    </tr>\n",
       "    <tr>\n",
       "      <th>...</th>\n",
       "      <td>...</td>\n",
       "      <td>...</td>\n",
       "      <td>...</td>\n",
       "      <td>...</td>\n",
       "      <td>...</td>\n",
       "      <td>...</td>\n",
       "      <td>...</td>\n",
       "      <td>...</td>\n",
       "      <td>...</td>\n",
       "      <td>...</td>\n",
       "      <td>...</td>\n",
       "      <td>...</td>\n",
       "      <td>...</td>\n",
       "      <td>...</td>\n",
       "      <td>...</td>\n",
       "      <td>...</td>\n",
       "      <td>...</td>\n",
       "      <td>...</td>\n",
       "      <td>...</td>\n",
       "      <td>...</td>\n",
       "      <td>...</td>\n",
       "    </tr>\n",
       "    <tr>\n",
       "      <th>7529</th>\n",
       "      <td>343892</td>\n",
       "      <td>130</td>\n",
       "      <td>F</td>\n",
       "      <td>1983-04-28</td>\n",
       "      <td>S</td>\n",
       "      <td>NaN</td>\n",
       "      <td>2006-02-04 11:51:08.233</td>\n",
       "      <td>22.0</td>\n",
       "      <td>383300.0</td>\n",
       "      <td>2007-10-28 12:35:20.587</td>\n",
       "      <td>...</td>\n",
       "      <td>0.0</td>\n",
       "      <td>7866.0</td>\n",
       "      <td>2884.0</td>\n",
       "      <td>Y</td>\n",
       "      <td>38.677618</td>\n",
       "      <td>2</td>\n",
       "      <td>10</td>\n",
       "      <td>NaN</td>\n",
       "      <td>11.0</td>\n",
       "      <td>10718.181818</td>\n",
       "    </tr>\n",
       "    <tr>\n",
       "      <th>7530</th>\n",
       "      <td>312177</td>\n",
       "      <td>130</td>\n",
       "      <td>F</td>\n",
       "      <td>1981-08-24</td>\n",
       "      <td>S</td>\n",
       "      <td>NaN</td>\n",
       "      <td>2006-02-04 11:51:08.233</td>\n",
       "      <td>18.0</td>\n",
       "      <td>385800.0</td>\n",
       "      <td>2007-11-07 19:22:06.137</td>\n",
       "      <td>...</td>\n",
       "      <td>7000.0</td>\n",
       "      <td>7870.0</td>\n",
       "      <td>4292.0</td>\n",
       "      <td>Y</td>\n",
       "      <td>40.353183</td>\n",
       "      <td>2</td>\n",
       "      <td>0</td>\n",
       "      <td>NaN</td>\n",
       "      <td>11.0</td>\n",
       "      <td>9511.111111</td>\n",
       "    </tr>\n",
       "    <tr>\n",
       "      <th>7531</th>\n",
       "      <td>454881</td>\n",
       "      <td>1181</td>\n",
       "      <td>M</td>\n",
       "      <td>NaT</td>\n",
       "      <td>S</td>\n",
       "      <td>NaN</td>\n",
       "      <td>2006-02-04 11:51:08.233</td>\n",
       "      <td>3.0</td>\n",
       "      <td>85800.0</td>\n",
       "      <td>2007-04-14 21:13:18.977</td>\n",
       "      <td>...</td>\n",
       "      <td>0.0</td>\n",
       "      <td>1716.0</td>\n",
       "      <td>0.0</td>\n",
       "      <td>Y</td>\n",
       "      <td>NaN</td>\n",
       "      <td>2</td>\n",
       "      <td>207</td>\n",
       "      <td>NaN</td>\n",
       "      <td>NaN</td>\n",
       "      <td>28600.000000</td>\n",
       "    </tr>\n",
       "    <tr>\n",
       "      <th>7532</th>\n",
       "      <td>973807</td>\n",
       "      <td>812</td>\n",
       "      <td>M</td>\n",
       "      <td>NaT</td>\n",
       "      <td>S</td>\n",
       "      <td>NaN</td>\n",
       "      <td>2006-02-04 11:51:08.233</td>\n",
       "      <td>4.0</td>\n",
       "      <td>208200.0</td>\n",
       "      <td>2007-09-12 12:58:43.683</td>\n",
       "      <td>...</td>\n",
       "      <td>0.0</td>\n",
       "      <td>4164.0</td>\n",
       "      <td>1110.0</td>\n",
       "      <td>Y</td>\n",
       "      <td>NaN</td>\n",
       "      <td>2</td>\n",
       "      <td>56</td>\n",
       "      <td>NaN</td>\n",
       "      <td>NaN</td>\n",
       "      <td>38175.000000</td>\n",
       "    </tr>\n",
       "    <tr>\n",
       "      <th>7533</th>\n",
       "      <td>47542</td>\n",
       "      <td>2273</td>\n",
       "      <td>F</td>\n",
       "      <td>1979-12-31</td>\n",
       "      <td>S</td>\n",
       "      <td>142-872</td>\n",
       "      <td>2006-02-04 11:51:08.233</td>\n",
       "      <td>3.0</td>\n",
       "      <td>208200.0</td>\n",
       "      <td>2007-02-26 20:59:18.540</td>\n",
       "      <td>...</td>\n",
       "      <td>0.0</td>\n",
       "      <td>4164.0</td>\n",
       "      <td>3368.0</td>\n",
       "      <td>Y</td>\n",
       "      <td>42.001369</td>\n",
       "      <td>2</td>\n",
       "      <td>254</td>\n",
       "      <td>1</td>\n",
       "      <td>NaN</td>\n",
       "      <td>12933.333333</td>\n",
       "    </tr>\n",
       "  </tbody>\n",
       "</table>\n",
       "<p>7534 rows × 21 columns</p>\n",
       "</div>"
      ],
      "text/plain": [
       "       MEM_ID  M_STORE_ID GENDER   BIRTH_DT BIRTH_SL   ZIP_CD  \\\n",
       "0     1134945        1084      M        NaT        S      NaN   \n",
       "1       38458         539      F 1973-07-11        S  420-721   \n",
       "2        7009        1113      F 1973-04-06        S      NaN   \n",
       "3     1374842        1300      M        NaT        S      NaN   \n",
       "4     1383660        1024      M        NaT        S      NaN   \n",
       "...       ...         ...    ...        ...      ...      ...   \n",
       "7529   343892         130      F 1983-04-28        S      NaN   \n",
       "7530   312177         130      F 1981-08-24        S      NaN   \n",
       "7531   454881        1181      M        NaT        S      NaN   \n",
       "7532   973807         812      M        NaT        S      NaN   \n",
       "7533    47542        2273      F 1979-12-31        S  142-872   \n",
       "\n",
       "                     RGST_DT  VISIT_CNT  SALES_AMT             LAST_VST_DT  \\\n",
       "0    2006-02-04 11:51:08.233        8.0   337000.0 2007-01-19 21:46:12.827   \n",
       "1    2006-02-04 11:51:08.233       22.0  1438500.0 2007-10-18 19:57:45.503   \n",
       "2    2006-02-04 11:51:08.233        8.0   309300.0 2007-05-30 15:21:10.863   \n",
       "3    2006-02-04 11:51:08.233        3.0   110300.0 2007-03-25 12:49:30.170   \n",
       "4    2006-02-05 16:56:58.000        2.0    33500.0 2006-09-09 14:55:21.687   \n",
       "...                      ...        ...        ...                     ...   \n",
       "7529 2006-02-04 11:51:08.233       22.0   383300.0 2007-10-28 12:35:20.587   \n",
       "7530 2006-02-04 11:51:08.233       18.0   385800.0 2007-11-07 19:22:06.137   \n",
       "7531 2006-02-04 11:51:08.233        3.0    85800.0 2007-04-14 21:13:18.977   \n",
       "7532 2006-02-04 11:51:08.233        4.0   208200.0 2007-09-12 12:58:43.683   \n",
       "7533 2006-02-04 11:51:08.233        3.0   208200.0 2007-02-26 20:59:18.540   \n",
       "\n",
       "      ...  USED_PNT  ACC_PNT  USABLE_INIT  SMS        AGE  R_MONTH  E_DAY  \\\n",
       "0     ...       0.0   6740.0       3202.0    Y        NaN        2    292   \n",
       "1     ...   12000.0  13732.0      17762.0    Y  48.473648        2     20   \n",
       "2     ...       0.0   6372.0       1856.0    Y  48.736482        2    161   \n",
       "3     ...       0.0   2206.0       1522.0    Y        NaN        2    227   \n",
       "4     ...       0.0    670.0        110.0    Y        NaN        2    424   \n",
       "...   ...       ...      ...          ...  ...        ...      ...    ...   \n",
       "7529  ...       0.0   7866.0       2884.0    Y  38.677618        2     10   \n",
       "7530  ...    7000.0   7870.0       4292.0    Y  40.353183        2      0   \n",
       "7531  ...       0.0   1716.0          0.0    Y        NaN        2    207   \n",
       "7532  ...       0.0   4164.0       1110.0    Y        NaN        2     56   \n",
       "7533  ...       0.0   4164.0       3368.0    Y  42.001369        2    254   \n",
       "\n",
       "      R_REGION STORE_REGION     TOTAL_AMT  \n",
       "0          NaN          NaN  16262.500000  \n",
       "1            4          NaN  25018.181818  \n",
       "2          NaN          NaN  22025.000000  \n",
       "3          NaN          NaN  11400.000000  \n",
       "4          NaN          NaN  14000.000000  \n",
       "...        ...          ...           ...  \n",
       "7529       NaN         11.0  10718.181818  \n",
       "7530       NaN         11.0   9511.111111  \n",
       "7531       NaN          NaN  28600.000000  \n",
       "7532       NaN          NaN  38175.000000  \n",
       "7533         1          NaN  12933.333333  \n",
       "\n",
       "[7534 rows x 21 columns]"
      ]
     },
     "execution_count": 89,
     "metadata": {},
     "output_type": "execute_result"
    }
   ],
   "source": [
    "temp"
   ]
  },
  {
   "cell_type": "code",
   "execution_count": 90,
   "metadata": {},
   "outputs": [],
   "source": [
    "temp.iloc[:, -1] = temp.iloc[:, -1].fillna(0)"
   ]
  },
  {
   "cell_type": "code",
   "execution_count": 91,
   "metadata": {},
   "outputs": [
    {
     "data": {
      "text/html": [
       "<div>\n",
       "<style scoped>\n",
       "    .dataframe tbody tr th:only-of-type {\n",
       "        vertical-align: middle;\n",
       "    }\n",
       "\n",
       "    .dataframe tbody tr th {\n",
       "        vertical-align: top;\n",
       "    }\n",
       "\n",
       "    .dataframe thead th {\n",
       "        text-align: right;\n",
       "    }\n",
       "</style>\n",
       "<table border=\"1\" class=\"dataframe\">\n",
       "  <thead>\n",
       "    <tr style=\"text-align: right;\">\n",
       "      <th></th>\n",
       "      <th>MEM_ID</th>\n",
       "      <th>M_STORE_ID</th>\n",
       "      <th>GENDER</th>\n",
       "      <th>BIRTH_DT</th>\n",
       "      <th>BIRTH_SL</th>\n",
       "      <th>ZIP_CD</th>\n",
       "      <th>RGST_DT</th>\n",
       "      <th>VISIT_CNT</th>\n",
       "      <th>SALES_AMT</th>\n",
       "      <th>LAST_VST_DT</th>\n",
       "      <th>...</th>\n",
       "      <th>USED_PNT</th>\n",
       "      <th>ACC_PNT</th>\n",
       "      <th>USABLE_INIT</th>\n",
       "      <th>SMS</th>\n",
       "      <th>AGE</th>\n",
       "      <th>R_MONTH</th>\n",
       "      <th>E_DAY</th>\n",
       "      <th>R_REGION</th>\n",
       "      <th>STORE_REGION</th>\n",
       "      <th>TOTAL_AMT</th>\n",
       "    </tr>\n",
       "  </thead>\n",
       "  <tbody>\n",
       "    <tr>\n",
       "      <th>0</th>\n",
       "      <td>1134945</td>\n",
       "      <td>1084</td>\n",
       "      <td>M</td>\n",
       "      <td>NaT</td>\n",
       "      <td>S</td>\n",
       "      <td>NaN</td>\n",
       "      <td>2006-02-04 11:51:08.233</td>\n",
       "      <td>8.0</td>\n",
       "      <td>337000.0</td>\n",
       "      <td>2007-01-19 21:46:12.827</td>\n",
       "      <td>...</td>\n",
       "      <td>0.0</td>\n",
       "      <td>6740.0</td>\n",
       "      <td>3202.0</td>\n",
       "      <td>Y</td>\n",
       "      <td>NaN</td>\n",
       "      <td>2</td>\n",
       "      <td>292</td>\n",
       "      <td>NaN</td>\n",
       "      <td>NaN</td>\n",
       "      <td>16262.500000</td>\n",
       "    </tr>\n",
       "    <tr>\n",
       "      <th>1</th>\n",
       "      <td>38458</td>\n",
       "      <td>539</td>\n",
       "      <td>F</td>\n",
       "      <td>1973-07-11</td>\n",
       "      <td>S</td>\n",
       "      <td>420-721</td>\n",
       "      <td>2006-02-04 11:51:08.233</td>\n",
       "      <td>22.0</td>\n",
       "      <td>1438500.0</td>\n",
       "      <td>2007-10-18 19:57:45.503</td>\n",
       "      <td>...</td>\n",
       "      <td>12000.0</td>\n",
       "      <td>13732.0</td>\n",
       "      <td>17762.0</td>\n",
       "      <td>Y</td>\n",
       "      <td>48.473648</td>\n",
       "      <td>2</td>\n",
       "      <td>20</td>\n",
       "      <td>4</td>\n",
       "      <td>NaN</td>\n",
       "      <td>25018.181818</td>\n",
       "    </tr>\n",
       "    <tr>\n",
       "      <th>2</th>\n",
       "      <td>7009</td>\n",
       "      <td>1113</td>\n",
       "      <td>F</td>\n",
       "      <td>1973-04-06</td>\n",
       "      <td>S</td>\n",
       "      <td>NaN</td>\n",
       "      <td>2006-02-04 11:51:08.233</td>\n",
       "      <td>8.0</td>\n",
       "      <td>309300.0</td>\n",
       "      <td>2007-05-30 15:21:10.863</td>\n",
       "      <td>...</td>\n",
       "      <td>0.0</td>\n",
       "      <td>6372.0</td>\n",
       "      <td>1856.0</td>\n",
       "      <td>Y</td>\n",
       "      <td>48.736482</td>\n",
       "      <td>2</td>\n",
       "      <td>161</td>\n",
       "      <td>NaN</td>\n",
       "      <td>NaN</td>\n",
       "      <td>22025.000000</td>\n",
       "    </tr>\n",
       "    <tr>\n",
       "      <th>3</th>\n",
       "      <td>1374842</td>\n",
       "      <td>1300</td>\n",
       "      <td>M</td>\n",
       "      <td>NaT</td>\n",
       "      <td>S</td>\n",
       "      <td>NaN</td>\n",
       "      <td>2006-02-04 11:51:08.233</td>\n",
       "      <td>3.0</td>\n",
       "      <td>110300.0</td>\n",
       "      <td>2007-03-25 12:49:30.170</td>\n",
       "      <td>...</td>\n",
       "      <td>0.0</td>\n",
       "      <td>2206.0</td>\n",
       "      <td>1522.0</td>\n",
       "      <td>Y</td>\n",
       "      <td>NaN</td>\n",
       "      <td>2</td>\n",
       "      <td>227</td>\n",
       "      <td>NaN</td>\n",
       "      <td>NaN</td>\n",
       "      <td>11400.000000</td>\n",
       "    </tr>\n",
       "    <tr>\n",
       "      <th>4</th>\n",
       "      <td>1383660</td>\n",
       "      <td>1024</td>\n",
       "      <td>M</td>\n",
       "      <td>NaT</td>\n",
       "      <td>S</td>\n",
       "      <td>NaN</td>\n",
       "      <td>2006-02-05 16:56:58.000</td>\n",
       "      <td>2.0</td>\n",
       "      <td>33500.0</td>\n",
       "      <td>2006-09-09 14:55:21.687</td>\n",
       "      <td>...</td>\n",
       "      <td>0.0</td>\n",
       "      <td>670.0</td>\n",
       "      <td>110.0</td>\n",
       "      <td>Y</td>\n",
       "      <td>NaN</td>\n",
       "      <td>2</td>\n",
       "      <td>424</td>\n",
       "      <td>NaN</td>\n",
       "      <td>NaN</td>\n",
       "      <td>14000.000000</td>\n",
       "    </tr>\n",
       "    <tr>\n",
       "      <th>...</th>\n",
       "      <td>...</td>\n",
       "      <td>...</td>\n",
       "      <td>...</td>\n",
       "      <td>...</td>\n",
       "      <td>...</td>\n",
       "      <td>...</td>\n",
       "      <td>...</td>\n",
       "      <td>...</td>\n",
       "      <td>...</td>\n",
       "      <td>...</td>\n",
       "      <td>...</td>\n",
       "      <td>...</td>\n",
       "      <td>...</td>\n",
       "      <td>...</td>\n",
       "      <td>...</td>\n",
       "      <td>...</td>\n",
       "      <td>...</td>\n",
       "      <td>...</td>\n",
       "      <td>...</td>\n",
       "      <td>...</td>\n",
       "      <td>...</td>\n",
       "    </tr>\n",
       "    <tr>\n",
       "      <th>7529</th>\n",
       "      <td>343892</td>\n",
       "      <td>130</td>\n",
       "      <td>F</td>\n",
       "      <td>1983-04-28</td>\n",
       "      <td>S</td>\n",
       "      <td>NaN</td>\n",
       "      <td>2006-02-04 11:51:08.233</td>\n",
       "      <td>22.0</td>\n",
       "      <td>383300.0</td>\n",
       "      <td>2007-10-28 12:35:20.587</td>\n",
       "      <td>...</td>\n",
       "      <td>0.0</td>\n",
       "      <td>7866.0</td>\n",
       "      <td>2884.0</td>\n",
       "      <td>Y</td>\n",
       "      <td>38.677618</td>\n",
       "      <td>2</td>\n",
       "      <td>10</td>\n",
       "      <td>NaN</td>\n",
       "      <td>11.0</td>\n",
       "      <td>10718.181818</td>\n",
       "    </tr>\n",
       "    <tr>\n",
       "      <th>7530</th>\n",
       "      <td>312177</td>\n",
       "      <td>130</td>\n",
       "      <td>F</td>\n",
       "      <td>1981-08-24</td>\n",
       "      <td>S</td>\n",
       "      <td>NaN</td>\n",
       "      <td>2006-02-04 11:51:08.233</td>\n",
       "      <td>18.0</td>\n",
       "      <td>385800.0</td>\n",
       "      <td>2007-11-07 19:22:06.137</td>\n",
       "      <td>...</td>\n",
       "      <td>7000.0</td>\n",
       "      <td>7870.0</td>\n",
       "      <td>4292.0</td>\n",
       "      <td>Y</td>\n",
       "      <td>40.353183</td>\n",
       "      <td>2</td>\n",
       "      <td>0</td>\n",
       "      <td>NaN</td>\n",
       "      <td>11.0</td>\n",
       "      <td>9511.111111</td>\n",
       "    </tr>\n",
       "    <tr>\n",
       "      <th>7531</th>\n",
       "      <td>454881</td>\n",
       "      <td>1181</td>\n",
       "      <td>M</td>\n",
       "      <td>NaT</td>\n",
       "      <td>S</td>\n",
       "      <td>NaN</td>\n",
       "      <td>2006-02-04 11:51:08.233</td>\n",
       "      <td>3.0</td>\n",
       "      <td>85800.0</td>\n",
       "      <td>2007-04-14 21:13:18.977</td>\n",
       "      <td>...</td>\n",
       "      <td>0.0</td>\n",
       "      <td>1716.0</td>\n",
       "      <td>0.0</td>\n",
       "      <td>Y</td>\n",
       "      <td>NaN</td>\n",
       "      <td>2</td>\n",
       "      <td>207</td>\n",
       "      <td>NaN</td>\n",
       "      <td>NaN</td>\n",
       "      <td>28600.000000</td>\n",
       "    </tr>\n",
       "    <tr>\n",
       "      <th>7532</th>\n",
       "      <td>973807</td>\n",
       "      <td>812</td>\n",
       "      <td>M</td>\n",
       "      <td>NaT</td>\n",
       "      <td>S</td>\n",
       "      <td>NaN</td>\n",
       "      <td>2006-02-04 11:51:08.233</td>\n",
       "      <td>4.0</td>\n",
       "      <td>208200.0</td>\n",
       "      <td>2007-09-12 12:58:43.683</td>\n",
       "      <td>...</td>\n",
       "      <td>0.0</td>\n",
       "      <td>4164.0</td>\n",
       "      <td>1110.0</td>\n",
       "      <td>Y</td>\n",
       "      <td>NaN</td>\n",
       "      <td>2</td>\n",
       "      <td>56</td>\n",
       "      <td>NaN</td>\n",
       "      <td>NaN</td>\n",
       "      <td>38175.000000</td>\n",
       "    </tr>\n",
       "    <tr>\n",
       "      <th>7533</th>\n",
       "      <td>47542</td>\n",
       "      <td>2273</td>\n",
       "      <td>F</td>\n",
       "      <td>1979-12-31</td>\n",
       "      <td>S</td>\n",
       "      <td>142-872</td>\n",
       "      <td>2006-02-04 11:51:08.233</td>\n",
       "      <td>3.0</td>\n",
       "      <td>208200.0</td>\n",
       "      <td>2007-02-26 20:59:18.540</td>\n",
       "      <td>...</td>\n",
       "      <td>0.0</td>\n",
       "      <td>4164.0</td>\n",
       "      <td>3368.0</td>\n",
       "      <td>Y</td>\n",
       "      <td>42.001369</td>\n",
       "      <td>2</td>\n",
       "      <td>254</td>\n",
       "      <td>1</td>\n",
       "      <td>NaN</td>\n",
       "      <td>12933.333333</td>\n",
       "    </tr>\n",
       "  </tbody>\n",
       "</table>\n",
       "<p>7534 rows × 21 columns</p>\n",
       "</div>"
      ],
      "text/plain": [
       "       MEM_ID  M_STORE_ID GENDER   BIRTH_DT BIRTH_SL   ZIP_CD  \\\n",
       "0     1134945        1084      M        NaT        S      NaN   \n",
       "1       38458         539      F 1973-07-11        S  420-721   \n",
       "2        7009        1113      F 1973-04-06        S      NaN   \n",
       "3     1374842        1300      M        NaT        S      NaN   \n",
       "4     1383660        1024      M        NaT        S      NaN   \n",
       "...       ...         ...    ...        ...      ...      ...   \n",
       "7529   343892         130      F 1983-04-28        S      NaN   \n",
       "7530   312177         130      F 1981-08-24        S      NaN   \n",
       "7531   454881        1181      M        NaT        S      NaN   \n",
       "7532   973807         812      M        NaT        S      NaN   \n",
       "7533    47542        2273      F 1979-12-31        S  142-872   \n",
       "\n",
       "                     RGST_DT  VISIT_CNT  SALES_AMT             LAST_VST_DT  \\\n",
       "0    2006-02-04 11:51:08.233        8.0   337000.0 2007-01-19 21:46:12.827   \n",
       "1    2006-02-04 11:51:08.233       22.0  1438500.0 2007-10-18 19:57:45.503   \n",
       "2    2006-02-04 11:51:08.233        8.0   309300.0 2007-05-30 15:21:10.863   \n",
       "3    2006-02-04 11:51:08.233        3.0   110300.0 2007-03-25 12:49:30.170   \n",
       "4    2006-02-05 16:56:58.000        2.0    33500.0 2006-09-09 14:55:21.687   \n",
       "...                      ...        ...        ...                     ...   \n",
       "7529 2006-02-04 11:51:08.233       22.0   383300.0 2007-10-28 12:35:20.587   \n",
       "7530 2006-02-04 11:51:08.233       18.0   385800.0 2007-11-07 19:22:06.137   \n",
       "7531 2006-02-04 11:51:08.233        3.0    85800.0 2007-04-14 21:13:18.977   \n",
       "7532 2006-02-04 11:51:08.233        4.0   208200.0 2007-09-12 12:58:43.683   \n",
       "7533 2006-02-04 11:51:08.233        3.0   208200.0 2007-02-26 20:59:18.540   \n",
       "\n",
       "      ...  USED_PNT  ACC_PNT  USABLE_INIT  SMS        AGE  R_MONTH  E_DAY  \\\n",
       "0     ...       0.0   6740.0       3202.0    Y        NaN        2    292   \n",
       "1     ...   12000.0  13732.0      17762.0    Y  48.473648        2     20   \n",
       "2     ...       0.0   6372.0       1856.0    Y  48.736482        2    161   \n",
       "3     ...       0.0   2206.0       1522.0    Y        NaN        2    227   \n",
       "4     ...       0.0    670.0        110.0    Y        NaN        2    424   \n",
       "...   ...       ...      ...          ...  ...        ...      ...    ...   \n",
       "7529  ...       0.0   7866.0       2884.0    Y  38.677618        2     10   \n",
       "7530  ...    7000.0   7870.0       4292.0    Y  40.353183        2      0   \n",
       "7531  ...       0.0   1716.0          0.0    Y        NaN        2    207   \n",
       "7532  ...       0.0   4164.0       1110.0    Y        NaN        2     56   \n",
       "7533  ...       0.0   4164.0       3368.0    Y  42.001369        2    254   \n",
       "\n",
       "      R_REGION STORE_REGION     TOTAL_AMT  \n",
       "0          NaN          NaN  16262.500000  \n",
       "1            4          NaN  25018.181818  \n",
       "2          NaN          NaN  22025.000000  \n",
       "3          NaN          NaN  11400.000000  \n",
       "4          NaN          NaN  14000.000000  \n",
       "...        ...          ...           ...  \n",
       "7529       NaN         11.0  10718.181818  \n",
       "7530       NaN         11.0   9511.111111  \n",
       "7531       NaN          NaN  28600.000000  \n",
       "7532       NaN          NaN  38175.000000  \n",
       "7533         1          NaN  12933.333333  \n",
       "\n",
       "[7534 rows x 21 columns]"
      ]
     },
     "execution_count": 91,
     "metadata": {},
     "output_type": "execute_result"
    }
   ],
   "source": [
    "temp"
   ]
  }
 ],
 "metadata": {
  "kernelspec": {
   "display_name": "Python 3",
   "language": "python",
   "name": "python3"
  },
  "language_info": {
   "codemirror_mode": {
    "name": "ipython",
    "version": 3
   },
   "file_extension": ".py",
   "mimetype": "text/x-python",
   "name": "python",
   "nbconvert_exporter": "python",
   "pygments_lexer": "ipython3",
   "version": "3.8.5"
  }
 },
 "nbformat": 4,
 "nbformat_minor": 4
}
